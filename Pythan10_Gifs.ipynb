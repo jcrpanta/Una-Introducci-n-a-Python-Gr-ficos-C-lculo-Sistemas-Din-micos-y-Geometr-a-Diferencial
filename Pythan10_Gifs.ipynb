{
  "nbformat": 4,
  "nbformat_minor": 0,
  "metadata": {
    "colab": {
      "name": "Pythan10_Gifs.ipynb",
      "provenance": [],
      "collapsed_sections": [],
      "include_colab_link": true
    },
    "kernelspec": {
      "name": "python3",
      "display_name": "Python 3"
    },
    "language_info": {
      "name": "python"
    }
  },
  "cells": [
    {
      "cell_type": "markdown",
      "metadata": {
        "id": "view-in-github",
        "colab_type": "text"
      },
      "source": [
        "<a href=\"https://colab.research.google.com/github/jcrpanta/Una-Introducci-n-a-Python-Gr-ficos-C-lculo-Sistemas-Din-micos-y-Geometr-a-Diferencial/blob/main/Pythan10_Gifs.ipynb\" target=\"_parent\"><img src=\"https://colab.research.google.com/assets/colab-badge.svg\" alt=\"Open In Colab\"/></a>"
      ]
    },
    {
      "cell_type": "markdown",
      "metadata": {
        "id": "FboQ8kvxRxgF"
      },
      "source": [
        "# Gifs con Matplotlib\n",
        "\n",
        "A continucación mostramos como crear un gif de una gráfica polar. Tomando como ejemplo la espiral de Arquímides. "
      ]
    },
    {
      "cell_type": "markdown",
      "metadata": {
        "id": "KzblkV5KIEsb"
      },
      "source": [
        "### Importamos las módulos necesarios"
      ]
    },
    {
      "cell_type": "code",
      "metadata": {
        "id": "2FPTaHzQcfOG"
      },
      "source": [
        "import numpy as np\n",
        "import networkx as nx\n",
        "import matplotlib.pyplot as plt\n",
        "from matplotlib.animation import FuncAnimation, PillowWriter \n",
        "from matplotlib.cm import get_cmap\n",
        "from mpl_toolkits.mplot3d import Axes3D\n",
        "from IPython import display"
      ],
      "execution_count": null,
      "outputs": []
    },
    {
      "cell_type": "markdown",
      "metadata": {
        "id": "H-_dn_q0dGMh"
      },
      "source": [
        "###Crear un plano polar"
      ]
    },
    {
      "cell_type": "code",
      "metadata": {
        "id": "VWWSmZYrchg5"
      },
      "source": [
        "fig = plt.figure(figsize=(4, 4))\n",
        "ax = fig.add_subplot(111, projection='polar')\n",
        "ax.set_ylim([-2, 2])\n",
        "ax.set(yticks=np.r_[-2:3])\n",
        "fig.show()"
      ],
      "execution_count": null,
      "outputs": []
    },
    {
      "cell_type": "markdown",
      "metadata": {
        "id": "jPuAc2O-dmZ-"
      },
      "source": [
        "## Espiral de Arquímides\n",
        "\n",
        "$$r=a\\theta$$"
      ]
    },
    {
      "cell_type": "markdown",
      "metadata": {
        "id": "TtEUiB2rIgz6"
      },
      "source": [
        "### Definimos la malla y la ecuación asociada."
      ]
    },
    {
      "cell_type": "code",
      "metadata": {
        "id": "qNPxLAYcdjBq"
      },
      "source": [
        "# Definimos las variables goblales \n",
        "PARTICION = 100\n",
        "# Aquí puede poner el nombre que desee para su archivo \n",
        "NAME = \"Arquimides\" \n",
        "\n",
        "\n",
        "# Definimos las ecuaciones y la malla a utilizar. \n",
        "# Aqui debemos tener presente los valores del intervalo a fragmentar \n",
        "theta = np.linspace(0, 10*np.pi, PARTICION) \n",
        "a = 5 \n",
        "r = a*theta"
      ],
      "execution_count": null,
      "outputs": []
    },
    {
      "cell_type": "markdown",
      "metadata": {
        "id": "18MBHTenenen"
      },
      "source": [
        "### Gráfica simple"
      ]
    },
    {
      "cell_type": "code",
      "metadata": {
        "id": "OVoypq2bdXgx"
      },
      "source": [
        "plt.polar(theta, r)\n",
        "plt.show()"
      ],
      "execution_count": null,
      "outputs": []
    },
    {
      "cell_type": "markdown",
      "metadata": {
        "id": "eUG3lNLzeq6x"
      },
      "source": [
        "### Hacemos la Animación "
      ]
    },
    {
      "cell_type": "code",
      "metadata": {
        "id": "RwseaWu5eK--"
      },
      "source": [
        "# Definimos una funcion auxiliar \n",
        "def fragmentar_array(numpy_array):\n",
        "  \"\"\" Este funcion toma un numpy array  \n",
        "      [[a, b , c, d]] y lo conviernte en \n",
        "      numpy array de la forma\n",
        "      [\n",
        "        [a, None, None, None],\n",
        "        [a, b, None, None],\n",
        "        [a, b, c, None],\n",
        "        [a, b, c, d],\n",
        "      ]\n",
        "  \"\"\"\n",
        "  resultado = []\n",
        "  list_ = numpy_array.tolist()\n",
        "  for i in list_:\n",
        "    index = list_.index(i)\n",
        "    complemento = numpy_array.shape[0] - index - 1\n",
        "    partial_list = list_[0:index+1] + [None for i_ in range(complemento)]\n",
        "    resultado.append(partial_list)\n",
        "  return np.array(resultado) "
      ],
      "execution_count": null,
      "outputs": []
    },
    {
      "cell_type": "code",
      "metadata": {
        "id": "atrsmrPFKbti"
      },
      "source": [
        "# Definimos las propiedades de la figura\n",
        "fig = plt.figure(figsize=(4,4))\n",
        "ax = fig.add_subplot(111, projection='polar')\n",
        "ax.set_ylim([0, 2])\n",
        "\"\"\"\n",
        "  Ojo en la funcion set_ylim debemos tener cuidado con este límite\n",
        "  para que la animación salga completa \n",
        "\"\"\"\n",
        "ax.set_ylim(0, 200) \n",
        "theta_np = fragmentar_array(theta)\n",
        "r_np = fragmentar_array(r)\n",
        "\n",
        "\"\"\"\n",
        "  Definimos una función para crear la animación, aquí\n",
        "  extraemos cada componente i del np_array, es decir, \n",
        "  np_array[i,:] para mostrar como se va formando una curva.\n",
        "\"\"\"\n",
        "l,  = ax.plot([],[])\n",
        "def animacion(i):\n",
        "  l.set_data(theta_np[i,:], r_np[i,:] )\n",
        "  return l, \n",
        "\n",
        "\"\"\"\n",
        "El parametro `Interval` define la velocidad a la cual \n",
        "se repoducirá el gif. \n",
        "\"\"\"\n",
        "# Creamos la animación \n",
        "anim = FuncAnimation(\n",
        "    fig, animacion,\n",
        "    frames=PARTICION, interval=15, \n",
        "    repeat=True\n",
        ")"
      ],
      "execution_count": null,
      "outputs": []
    },
    {
      "cell_type": "markdown",
      "metadata": {
        "id": "zokDH7DEQmZe"
      },
      "source": [
        "### Obtenemos el archivo en formato mp4"
      ]
    },
    {
      "cell_type": "code",
      "metadata": {
        "id": "sMFeORxZQWx7"
      },
      "source": [
        "# Creamos un video \n",
        "video = anim.to_html5_video()\n",
        "html = display.HTML(video)\n",
        "display.display(html)"
      ],
      "execution_count": null,
      "outputs": []
    },
    {
      "cell_type": "markdown",
      "metadata": {
        "id": "bwL5K1bkTN5B"
      },
      "source": [
        "**OBSERVACIÓN**. \n",
        "\n",
        "Dando clíck en los tres puntos del video se puede descargar como un archivo mp4."
      ]
    },
    {
      "cell_type": "markdown",
      "metadata": {
        "id": "x1w0HLV2QdIg"
      },
      "source": [
        "### Obtenemos el archivo en formato gif"
      ]
    },
    {
      "cell_type": "code",
      "metadata": {
        "id": "p1B1avmSQUrz"
      },
      "source": [
        "# Guardamos el archivo en formato gif\n",
        "anim.save(f'{NAME}.gif', writer='pillow')"
      ],
      "execution_count": null,
      "outputs": []
    },
    {
      "cell_type": "markdown",
      "metadata": {
        "id": "j_WNqhrtRIn6"
      },
      "source": [
        "**OBSERVACIÓN**. \n",
        "\n",
        "Ahora busque su archivo en la parte izquierda de este google colab para descargarlo, dando click en el icono de la carpeta."
      ]
    }
  ]
}