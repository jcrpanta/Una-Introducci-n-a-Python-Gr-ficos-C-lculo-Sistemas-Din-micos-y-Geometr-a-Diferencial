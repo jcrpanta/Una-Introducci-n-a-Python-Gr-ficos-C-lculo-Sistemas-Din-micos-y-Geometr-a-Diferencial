{
  "nbformat": 4,
  "nbformat_minor": 0,
  "metadata": {
    "colab": {
      "name": "Pythan1_Introduccion_a_Python.ipynb",
      "provenance": [],
      "collapsed_sections": [
        "ljVLzirwLPsV",
        "BhXkK-qhZTKA"
      ],
      "include_colab_link": true
    },
    "kernelspec": {
      "name": "python3",
      "display_name": "Python 3"
    }
  },
  "cells": [
    {
      "cell_type": "markdown",
      "metadata": {
        "id": "view-in-github",
        "colab_type": "text"
      },
      "source": [
        "<a href=\"https://colab.research.google.com/github/jcrpanta/Una-Introducci-n-a-Python-Gr-ficos-C-lculo-Sistemas-Din-micos-y-Geometr-a-Diferencial/blob/main/Pythan1_Introduccion_a_Python.ipynb\" target=\"_parent\"><img src=\"https://colab.research.google.com/assets/colab-badge.svg\" alt=\"Open In Colab\"/></a>"
      ]
    },
    {
      "cell_type": "markdown",
      "metadata": {
        "id": "5er4cA_jxhdT"
      },
      "source": [
        "# Introducción a Python\n",
        "\n",
        "\n",
        "Parte de la estructura e ideas de este material se ha tomado de los siguientes tutoriales:\n",
        "\n",
        "* https://docs.python.org/3/tutorial/appetite.html\n",
        "* https://tutorial.djangogirls.org/es/python_introduction/\n",
        "* https://github.com/psuarezserrato/curso-redes-python/blob/master/1%20Introduccion%20a%20Python.ipynb\n",
        "___________________________________________________\n",
        "\n",
        "Python es un lenguage de programación poderoso y fácil de aprender. Tiene un alto nivel de estructura de datos y una forma simple pero efectiva de aproximarse a la programación orientada a objetos. La sintaxis elegante y dinámica de Python, junto con su intérprete natural, lo hacen el lenguaje ideal para desarrollar aplicaciones rápidas en diversas áreas en la mayoría de plataformas.\n",
        "\n",
        "El intérprete de Python y todas sus librerias estándar se pueden encontrar gratuitamente para la mayoría de plataformas en el sitio Web de [Python](https://www.python.org/). También pueden encontrar en este sitio documentación adicional, programas y herramientas.\n"
      ]
    },
    {
      "cell_type": "markdown",
      "metadata": {
        "id": "-JLpZlWGLOIw"
      },
      "source": [
        "## 1. Usando Python\n",
        "\n",
        "¡La mejor forma de aprender a programar es haciéndolo! \n",
        "\n",
        "**Da click en cualquier bloque de código de este curso y presiona `ctrl + Enter` para 'correrlo'. Debemos tener presente que las instrucciones se organizan en bloques y se ejecutan de acuerdo al orden en el que fueron escritas.**"
      ]
    },
    {
      "cell_type": "markdown",
      "metadata": {
        "id": "ljVLzirwLPsV"
      },
      "source": [
        "### 1.1 Números\n",
        "\n",
        "El intérprete de Python actúa como una calculadora simple: puedes escribir una expresión en él y éste te 'regresará' un valor. \n",
        "\n",
        "La sintaxis para las expresiones es sencilla: los operadores `+`, `-`,`*` y `/` funcionan como en la mayoría de otros lenguajes. También podemos usar paréntesis `()` para agrupar expresiones."
      ]
    },
    {
      "cell_type": "code",
      "metadata": {
        "id": "T2yXZU7jBklI",
        "colab": {
          "base_uri": "https://localhost:8080/"
        },
        "outputId": "dc7fc4eb-2095-44ff-8e87-cff6015f1c05"
      },
      "source": [
        "2 + 2"
      ],
      "execution_count": 13,
      "outputs": [
        {
          "output_type": "execute_result",
          "data": {
            "text/plain": [
              "4"
            ]
          },
          "metadata": {},
          "execution_count": 13
        }
      ]
    },
    {
      "cell_type": "code",
      "metadata": {
        "id": "Pg2PB1IFBpa6",
        "colab": {
          "base_uri": "https://localhost:8080/"
        },
        "outputId": "90f0f291-d5d6-4282-fc73-617e47038594"
      },
      "source": [
        "50 - 5*6"
      ],
      "execution_count": 14,
      "outputs": [
        {
          "output_type": "execute_result",
          "data": {
            "text/plain": [
              "20"
            ]
          },
          "metadata": {},
          "execution_count": 14
        }
      ]
    },
    {
      "cell_type": "code",
      "metadata": {
        "id": "pcG5D5i2BtDj",
        "colab": {
          "base_uri": "https://localhost:8080/"
        },
        "outputId": "8acff5ec-ee99-4d88-de78-ffcea7db3de4"
      },
      "source": [
        "(50 - 5*6) / 4"
      ],
      "execution_count": 15,
      "outputs": [
        {
          "output_type": "execute_result",
          "data": {
            "text/plain": [
              "5.0"
            ]
          },
          "metadata": {},
          "execution_count": 15
        }
      ]
    },
    {
      "cell_type": "code",
      "metadata": {
        "id": "nEe3X8EbBwYW",
        "colab": {
          "base_uri": "https://localhost:8080/"
        },
        "outputId": "9671bc0f-57e3-4446-ac18-f53491fbeade"
      },
      "source": [
        "8 / 5 # la division siempre regresa un numero flotante"
      ],
      "execution_count": 16,
      "outputs": [
        {
          "output_type": "execute_result",
          "data": {
            "text/plain": [
              "1.6"
            ]
          },
          "metadata": {},
          "execution_count": 16
        }
      ]
    },
    {
      "cell_type": "markdown",
      "metadata": {
        "id": "1AqFfgosB5T-"
      },
      "source": [
        "**Nota:** Los números enteros (ej. 2, 4, 20) son de tipo `int` y los que tienen parte racional (ej. 5.0, 1.6) son de tipo `float`. \n",
        "\n",
        "La división ''`/`' (siempre) regresa un valor flotante. Para obtener un valor entero en la división y olvidarnos de la parte racional podemos usar el operador `//`."
      ]
    },
    {
      "cell_type": "code",
      "metadata": {
        "id": "iRh7VYPRC-k-",
        "colab": {
          "base_uri": "https://localhost:8080/"
        },
        "outputId": "f1ef5294-b872-4360-81f2-2e9a15e3612b"
      },
      "source": [
        "17 / 3 # la divison clásica regresa un valor flotante"
      ],
      "execution_count": 17,
      "outputs": [
        {
          "output_type": "execute_result",
          "data": {
            "text/plain": [
              "5.666666666666667"
            ]
          },
          "metadata": {},
          "execution_count": 17
        }
      ]
    },
    {
      "cell_type": "code",
      "metadata": {
        "id": "E9aqg0NPDEef",
        "colab": {
          "base_uri": "https://localhost:8080/"
        },
        "outputId": "eb7afd73-f94a-418c-bce5-e6fb6e15b244"
      },
      "source": [
        "17 // 3 # regresa solo la parte entera"
      ],
      "execution_count": 18,
      "outputs": [
        {
          "output_type": "execute_result",
          "data": {
            "text/plain": [
              "5"
            ]
          },
          "metadata": {},
          "execution_count": 18
        }
      ]
    },
    {
      "cell_type": "markdown",
      "metadata": {
        "id": "f-7oJI2dDd52"
      },
      "source": [
        "En Python, podemos usar el operador `**` para calcular potencias."
      ]
    },
    {
      "cell_type": "code",
      "metadata": {
        "id": "0O5ydVafDk_Y",
        "colab": {
          "base_uri": "https://localhost:8080/"
        },
        "outputId": "187cfebf-4aed-449c-bab1-8a337abb66e0"
      },
      "source": [
        "5**2 # 5 al cuadrado"
      ],
      "execution_count": 19,
      "outputs": [
        {
          "output_type": "execute_result",
          "data": {
            "text/plain": [
              "25"
            ]
          },
          "metadata": {},
          "execution_count": 19
        }
      ]
    },
    {
      "cell_type": "code",
      "metadata": {
        "id": "z2kLMHn2DpgX",
        "colab": {
          "base_uri": "https://localhost:8080/"
        },
        "outputId": "e98c3bd8-316c-4939-d4df-b8feeceec2db"
      },
      "source": [
        "2**7"
      ],
      "execution_count": 20,
      "outputs": [
        {
          "output_type": "execute_result",
          "data": {
            "text/plain": [
              "128"
            ]
          },
          "metadata": {},
          "execution_count": 20
        }
      ]
    },
    {
      "cell_type": "code",
      "metadata": {
        "id": "aYtoOBNkM1BJ",
        "colab": {
          "base_uri": "https://localhost:8080/"
        },
        "outputId": "454108ef-10c4-430c-eac2-c942072b9928"
      },
      "source": [
        "2*3**2 # ¿Resultado?"
      ],
      "execution_count": 21,
      "outputs": [
        {
          "output_type": "execute_result",
          "data": {
            "text/plain": [
              "18"
            ]
          },
          "metadata": {},
          "execution_count": 21
        }
      ]
    },
    {
      "cell_type": "code",
      "metadata": {
        "id": "w8k_ceJYN9DP",
        "colab": {
          "base_uri": "https://localhost:8080/"
        },
        "outputId": "f8e39f4b-0207-483f-e85c-228f53248317"
      },
      "source": [
        "2**3*2 # ¿Resultado?"
      ],
      "execution_count": 22,
      "outputs": [
        {
          "output_type": "execute_result",
          "data": {
            "text/plain": [
              "16"
            ]
          },
          "metadata": {},
          "execution_count": 22
        }
      ]
    },
    {
      "cell_type": "markdown",
      "metadata": {
        "id": "9JdDoaoDDr89"
      },
      "source": [
        "El signo ''`=`'' se usa para asignar un valor a una variable. "
      ]
    },
    {
      "cell_type": "code",
      "metadata": {
        "id": "N6VlwIhUD06-",
        "colab": {
          "base_uri": "https://localhost:8080/"
        },
        "outputId": "3c6c7be6-1938-4495-ec5f-cd94daab4a7d"
      },
      "source": [
        "Ancho = 20 \n",
        "Alto = 5*9\n",
        "Ancho * Alto"
      ],
      "execution_count": 23,
      "outputs": [
        {
          "output_type": "execute_result",
          "data": {
            "text/plain": [
              "900"
            ]
          },
          "metadata": {},
          "execution_count": 23
        }
      ]
    },
    {
      "cell_type": "markdown",
      "metadata": {
        "id": "-0Sm3mrZD_2x"
      },
      "source": [
        "Si una variable no está definida (no tiene un valor asignado) Python marcará *error* al usarla."
      ]
    },
    {
      "cell_type": "code",
      "metadata": {
        "id": "hD_zLzqaEH2X",
        "colab": {
          "base_uri": "https://localhost:8080/",
          "height": 166
        },
        "outputId": "f103d34d-d2d1-48b9-bf48-e4a5b9ad2ab5"
      },
      "source": [
        "n # tratar de usar una variable indefinida"
      ],
      "execution_count": 24,
      "outputs": [
        {
          "output_type": "error",
          "ename": "NameError",
          "evalue": "ignored",
          "traceback": [
            "\u001b[0;31m---------------------------------------------------------------------------\u001b[0m",
            "\u001b[0;31mNameError\u001b[0m                                 Traceback (most recent call last)",
            "\u001b[0;32m<ipython-input-24-b707d7d727ec>\u001b[0m in \u001b[0;36m<module>\u001b[0;34m()\u001b[0m\n\u001b[0;32m----> 1\u001b[0;31m \u001b[0mn\u001b[0m \u001b[0;31m# tratar de usar una variable indefinida\u001b[0m\u001b[0;34m\u001b[0m\u001b[0;34m\u001b[0m\u001b[0m\n\u001b[0m",
            "\u001b[0;31mNameError\u001b[0m: name 'n' is not defined"
          ]
        }
      ]
    },
    {
      "cell_type": "markdown",
      "metadata": {
        "id": "oc5vDoV7ENKJ"
      },
      "source": [
        "Al operar con números enteros (`int`) y flotantes (`float`) el resultado será de tipo flotante."
      ]
    },
    {
      "cell_type": "code",
      "metadata": {
        "id": "QMT3E_aVEhWh",
        "colab": {
          "base_uri": "https://localhost:8080/"
        },
        "outputId": "82d51bbe-2d4f-40cf-8d53-bee4f96327d8"
      },
      "source": [
        "4 * 3.75 - 1"
      ],
      "execution_count": 25,
      "outputs": [
        {
          "output_type": "execute_result",
          "data": {
            "text/plain": [
              "14.0"
            ]
          },
          "metadata": {},
          "execution_count": 25
        }
      ]
    },
    {
      "cell_type": "markdown",
      "metadata": {
        "id": "rLFNvM7pxvMn"
      },
      "source": [
        "La función `round()` sirve para redondear a un número fijo de decimales."
      ]
    },
    {
      "cell_type": "code",
      "metadata": {
        "id": "CqDEwkcDFXO1",
        "colab": {
          "base_uri": "https://localhost:8080/"
        },
        "outputId": "b9a9f294-4ce6-4f60-b523-eaf953429bed"
      },
      "source": [
        "round(5.75, 3)"
      ],
      "execution_count": 26,
      "outputs": [
        {
          "output_type": "execute_result",
          "data": {
            "text/plain": [
              "5.75"
            ]
          },
          "metadata": {},
          "execution_count": 26
        }
      ]
    },
    {
      "cell_type": "markdown",
      "metadata": {
        "id": "2gvior_GFavW"
      },
      "source": [
        "Además de `int` y `float`, Python soporta otro tipo de números como `Decimal` y `Fraction`. "
      ]
    },
    {
      "cell_type": "markdown",
      "metadata": {
        "id": "BCWQ235sGYVw"
      },
      "source": [
        "### 1.2 Cadenas\n",
        "\n",
        "Además de variables numéricas `(int, float)`, Python también permite manipular cadenas de caracteres o variables de tipo `string`. Este tipo de variables se escriben entre comillas sencillas `('...')` o comillas dobles `(\"...\")`.\n"
      ]
    },
    {
      "cell_type": "code",
      "metadata": {
        "id": "5muok6R1QtWW",
        "colab": {
          "base_uri": "https://localhost:8080/",
          "height": 35
        },
        "outputId": "fbfc018a-5f2e-4ec4-a03a-a5a31c1acdcb"
      },
      "source": [
        "'Hola Mundo'"
      ],
      "execution_count": 27,
      "outputs": [
        {
          "output_type": "execute_result",
          "data": {
            "application/vnd.google.colaboratory.intrinsic+json": {
              "type": "string"
            },
            "text/plain": [
              "'Hola Mundo'"
            ]
          },
          "metadata": {},
          "execution_count": 27
        }
      ]
    },
    {
      "cell_type": "code",
      "metadata": {
        "id": "AfgHSmb1Qv-v",
        "colab": {
          "base_uri": "https://localhost:8080/",
          "height": 35
        },
        "outputId": "62f9cdb7-24bc-47e8-feb8-64c332903f13"
      },
      "source": [
        "\"Hola Mundo\""
      ],
      "execution_count": 28,
      "outputs": [
        {
          "output_type": "execute_result",
          "data": {
            "application/vnd.google.colaboratory.intrinsic+json": {
              "type": "string"
            },
            "text/plain": [
              "'Hola Mundo'"
            ]
          },
          "metadata": {},
          "execution_count": 28
        }
      ]
    },
    {
      "cell_type": "markdown",
      "metadata": {
        "id": "xMUwDNwVQyAU"
      },
      "source": [
        "La función `print()` nos permite mostrar texto y/o variables en pantalla."
      ]
    },
    {
      "cell_type": "code",
      "metadata": {
        "id": "6w5EtFkrGvjA",
        "colab": {
          "base_uri": "https://localhost:8080/"
        },
        "outputId": "e5ead8fc-e53f-4d76-f268-7824ddd6f68a"
      },
      "source": [
        "print(1 + 1)"
      ],
      "execution_count": 29,
      "outputs": [
        {
          "output_type": "stream",
          "name": "stdout",
          "text": [
            "2\n"
          ]
        }
      ]
    },
    {
      "cell_type": "code",
      "metadata": {
        "id": "4BLLMxT4G2Gt",
        "colab": {
          "base_uri": "https://localhost:8080/"
        },
        "outputId": "a9f52559-f86f-4a4e-ea1c-8d5145e83048"
      },
      "source": [
        "print(\"Hola Mundo\")"
      ],
      "execution_count": 30,
      "outputs": [
        {
          "output_type": "stream",
          "name": "stdout",
          "text": [
            "Hola Mundo\n"
          ]
        }
      ]
    },
    {
      "cell_type": "markdown",
      "metadata": {
        "id": "wuY4qxxpIo39"
      },
      "source": [
        "Revisa el siguiente código, córrelo y trata de entender qué es lo que sucede."
      ]
    },
    {
      "cell_type": "code",
      "metadata": {
        "id": "MfbxLO6vJdyj",
        "colab": {
          "base_uri": "https://localhost:8080/"
        },
        "outputId": "fe979281-366b-44e1-adbd-ca8755f1336c"
      },
      "source": [
        "print('Geometria con')\n",
        "print('Python')"
      ],
      "execution_count": 31,
      "outputs": [
        {
          "output_type": "stream",
          "name": "stdout",
          "text": [
            "Geometria con\n",
            "Python\n"
          ]
        }
      ]
    },
    {
      "cell_type": "markdown",
      "metadata": {
        "id": "sq68JHoOJgni"
      },
      "source": [
        "Otra manera de escribir lo anterior es almacenando la información en variables."
      ]
    },
    {
      "cell_type": "code",
      "metadata": {
        "id": "PK2U7Ot0JjcQ"
      },
      "source": [
        "palabra1 = \"Geometria\"\n",
        "palabra2 = \"con\"\n",
        "palabra3 = \"Python\""
      ],
      "execution_count": 32,
      "outputs": []
    },
    {
      "cell_type": "code",
      "metadata": {
        "colab": {
          "base_uri": "https://localhost:8080/"
        },
        "id": "PYW0wS93Cd1s",
        "outputId": "e5ad366a-8a4e-4a87-cbdc-18dc5a3e506e"
      },
      "source": [
        "print(palabra1, palabra2, palabra3)"
      ],
      "execution_count": 33,
      "outputs": [
        {
          "output_type": "stream",
          "name": "stdout",
          "text": [
            "Geometria con Python\n"
          ]
        }
      ]
    },
    {
      "cell_type": "markdown",
      "metadata": {
        "id": "u8eKKqkOKDj_"
      },
      "source": [
        "Con el operador ''`+`'' podemos concatenar cadenas de texto."
      ]
    },
    {
      "cell_type": "code",
      "metadata": {
        "id": "-GUCKVjGKMTQ"
      },
      "source": [
        "palabra1 = \"Geometria\"\n",
        "palabra2 = \"con\"\n",
        "palabra3 = \"Python\"\n",
        "palabra4 = palabra1 + \" \" + palabra2 + \" \" + palabra3"
      ],
      "execution_count": 34,
      "outputs": []
    },
    {
      "cell_type": "code",
      "metadata": {
        "colab": {
          "base_uri": "https://localhost:8080/"
        },
        "id": "c-kxsN_0CgGu",
        "outputId": "cfb64f77-a124-44ac-9093-984c75d888a1"
      },
      "source": [
        "print(palabra4)"
      ],
      "execution_count": 35,
      "outputs": [
        {
          "output_type": "stream",
          "name": "stdout",
          "text": [
            "Geometria con Python\n"
          ]
        }
      ]
    },
    {
      "cell_type": "markdown",
      "metadata": {
        "id": "C-9NEkinKPMS"
      },
      "source": [
        "Recapitulando, podemos pensar a las variables como un contenedor, en el cual almacenamos cualquier tipo de información. En el ejemplo anterior, almacenamos la cadena de texto \"Geometria\" en la variable `palabra1`. Aunque lucen similares, existe una diferencia importante entre cadenas de texto como \"Geometría\" y variables como `palabra1`. Como ya lo mencionamos, las cadenas de texto se escriben entre comillas, mientras que las variables no. Sin las comillas, Python considera el correspondiete texto como una variable. Para hacer más clara esta diferencia, corramos el siguiente código:"
      ]
    },
    {
      "cell_type": "code",
      "metadata": {
        "id": "ff7nx5TyK3RE"
      },
      "source": [
        "Geometria = \"Python\"\n",
        "Python = \"Geometria\""
      ],
      "execution_count": 36,
      "outputs": []
    },
    {
      "cell_type": "code",
      "metadata": {
        "colab": {
          "base_uri": "https://localhost:8080/"
        },
        "id": "9n2HFSDjCiBp",
        "outputId": "4cb30ab7-3fa6-4911-c89f-d211c8e257d8"
      },
      "source": [
        "print(Geometria + \" \" + palabra2 + \" \" + Python)"
      ],
      "execution_count": 37,
      "outputs": [
        {
          "output_type": "stream",
          "name": "stdout",
          "text": [
            "Python con Geometria\n"
          ]
        }
      ]
    },
    {
      "cell_type": "markdown",
      "metadata": {
        "id": "SP2JIKjaLTCy"
      },
      "source": [
        "Los nombres de las variables los podemos escoger arbitrariamente. Sin embargo, es recomendable utilizar nombres significativos/intuitivos para que nos sea más fácil recordar lo que almacenamos en las variables.\n",
        "\n",
        "En general, llamamos 'valor' al contenido de una variable. Si lees un libro de programación, las personas por lo general hablan de almacenar (o asignar) valores a las variables. Observa el siguiente bloque de código."
      ]
    },
    {
      "cell_type": "code",
      "metadata": {
        "id": "CYVpmvdWLh1G"
      },
      "source": [
        "numero = 1\n",
        "NUMERO = 100000000"
      ],
      "execution_count": 38,
      "outputs": []
    },
    {
      "cell_type": "markdown",
      "metadata": {
        "id": "4rxJJvcGLk1U"
      },
      "source": [
        "Notemos que Python distingue mayúsculas de minúsculas, es decir, NUMERO ≠ numero.\n",
        "\n",
        "__Ejercicio__: Prueba añadiendo al final del código una línea que imprima la suma de numero y NUMERO. Después, asigna el resultado de esta suma a una nueva variable. Hazlo en la siguiente celda."
      ]
    },
    {
      "cell_type": "code",
      "metadata": {
        "id": "ZM_Gpr5xLtLy"
      },
      "source": [
        "#Elimina esto e inserta tu código aquí."
      ],
      "execution_count": 40,
      "outputs": []
    },
    {
      "cell_type": "markdown",
      "metadata": {
        "id": "bj6yhp9kLvKP"
      },
      "source": [
        "Las cadenas de caracteres también se pueden indexar, donde el primer carácter se le asocia el índice `0`.  Un solo caracter es simplemente una cadena de tamaño uno."
      ]
    },
    {
      "cell_type": "code",
      "metadata": {
        "id": "hzrdAPqQVQ4Y",
        "colab": {
          "base_uri": "https://localhost:8080/",
          "height": 35
        },
        "outputId": "52b6e30c-3fde-4bb9-866b-6fce87838721"
      },
      "source": [
        "palabra = \"Python\"\n",
        "palabra[0]"
      ],
      "execution_count": 41,
      "outputs": [
        {
          "output_type": "execute_result",
          "data": {
            "application/vnd.google.colaboratory.intrinsic+json": {
              "type": "string"
            },
            "text/plain": [
              "'P'"
            ]
          },
          "metadata": {},
          "execution_count": 41
        }
      ]
    },
    {
      "cell_type": "code",
      "metadata": {
        "id": "XPFWEiidVhNc",
        "colab": {
          "base_uri": "https://localhost:8080/",
          "height": 35
        },
        "outputId": "55a79b25-d75b-412a-bbcf-676b4f50329c"
      },
      "source": [
        "palabra[5]"
      ],
      "execution_count": 42,
      "outputs": [
        {
          "output_type": "execute_result",
          "data": {
            "application/vnd.google.colaboratory.intrinsic+json": {
              "type": "string"
            },
            "text/plain": [
              "'n'"
            ]
          },
          "metadata": {},
          "execution_count": 42
        }
      ]
    },
    {
      "cell_type": "markdown",
      "metadata": {
        "id": "4WUavRleVjVx"
      },
      "source": [
        "Los índices también pueden ser números negativos, empezando a contar desde la derecha:"
      ]
    },
    {
      "cell_type": "code",
      "metadata": {
        "id": "ic_rKOqLVuZs",
        "colab": {
          "base_uri": "https://localhost:8080/",
          "height": 35
        },
        "outputId": "188f007b-781a-4164-9bb3-b0038a6e7969"
      },
      "source": [
        "palabra[-1]"
      ],
      "execution_count": 43,
      "outputs": [
        {
          "output_type": "execute_result",
          "data": {
            "application/vnd.google.colaboratory.intrinsic+json": {
              "type": "string"
            },
            "text/plain": [
              "'n'"
            ]
          },
          "metadata": {},
          "execution_count": 43
        }
      ]
    },
    {
      "cell_type": "code",
      "metadata": {
        "id": "1WvVugNCVyK6",
        "colab": {
          "base_uri": "https://localhost:8080/",
          "height": 35
        },
        "outputId": "928d00a2-b2df-408a-f544-3d55b65c92d6"
      },
      "source": [
        "palabra[-2]"
      ],
      "execution_count": 44,
      "outputs": [
        {
          "output_type": "execute_result",
          "data": {
            "application/vnd.google.colaboratory.intrinsic+json": {
              "type": "string"
            },
            "text/plain": [
              "'o'"
            ]
          },
          "metadata": {},
          "execution_count": 44
        }
      ]
    },
    {
      "cell_type": "code",
      "metadata": {
        "id": "tdB3RWAmV1nr",
        "colab": {
          "base_uri": "https://localhost:8080/",
          "height": 35
        },
        "outputId": "7a26fe0c-c40d-44f5-b861-7c6def83ec2a"
      },
      "source": [
        "palabra[-6]"
      ],
      "execution_count": 45,
      "outputs": [
        {
          "output_type": "execute_result",
          "data": {
            "application/vnd.google.colaboratory.intrinsic+json": {
              "type": "string"
            },
            "text/plain": [
              "'P'"
            ]
          },
          "metadata": {},
          "execution_count": 45
        }
      ]
    },
    {
      "cell_type": "markdown",
      "metadata": {
        "id": "AxuuboBSV9hC"
      },
      "source": [
        "También es posible acceder a un conjunto de caracteres de la cadena de texto:"
      ]
    },
    {
      "cell_type": "code",
      "metadata": {
        "id": "oAvRKZF8WHQP",
        "colab": {
          "base_uri": "https://localhost:8080/",
          "height": 35
        },
        "outputId": "21f53af9-19ea-4dae-ca33-9830f921455d"
      },
      "source": [
        "palabra[0: 2]"
      ],
      "execution_count": 46,
      "outputs": [
        {
          "output_type": "execute_result",
          "data": {
            "application/vnd.google.colaboratory.intrinsic+json": {
              "type": "string"
            },
            "text/plain": [
              "'Py'"
            ]
          },
          "metadata": {},
          "execution_count": 46
        }
      ]
    },
    {
      "cell_type": "code",
      "metadata": {
        "id": "7PTzxVPGWK2M",
        "colab": {
          "base_uri": "https://localhost:8080/",
          "height": 35
        },
        "outputId": "897651e9-9942-41a6-828e-73354627169a"
      },
      "source": [
        "palabra[2: 5]"
      ],
      "execution_count": 47,
      "outputs": [
        {
          "output_type": "execute_result",
          "data": {
            "application/vnd.google.colaboratory.intrinsic+json": {
              "type": "string"
            },
            "text/plain": [
              "'tho'"
            ]
          },
          "metadata": {},
          "execution_count": 47
        }
      ]
    },
    {
      "cell_type": "markdown",
      "metadata": {
        "id": "1_zftv3cWNKl"
      },
      "source": [
        "Debemos notar que el primer índice esta incluido y el último no."
      ]
    },
    {
      "cell_type": "code",
      "metadata": {
        "id": "efY2HofuWqB5",
        "colab": {
          "base_uri": "https://localhost:8080/",
          "height": 35
        },
        "outputId": "3c00b55c-82c4-424d-a44a-db9bb7f9c2a3"
      },
      "source": [
        "palabra[ : 2] + palabra[2: ]"
      ],
      "execution_count": 48,
      "outputs": [
        {
          "output_type": "execute_result",
          "data": {
            "application/vnd.google.colaboratory.intrinsic+json": {
              "type": "string"
            },
            "text/plain": [
              "'Python'"
            ]
          },
          "metadata": {},
          "execution_count": 48
        }
      ]
    },
    {
      "cell_type": "code",
      "metadata": {
        "id": "Q7Zn4SOMWv6g",
        "colab": {
          "base_uri": "https://localhost:8080/",
          "height": 35
        },
        "outputId": "02c0f23a-793b-4792-d1d5-e61e612c5869"
      },
      "source": [
        "palabra[ : 4] + palabra[4: ]"
      ],
      "execution_count": 49,
      "outputs": [
        {
          "output_type": "execute_result",
          "data": {
            "application/vnd.google.colaboratory.intrinsic+json": {
              "type": "string"
            },
            "text/plain": [
              "'Python'"
            ]
          },
          "metadata": {},
          "execution_count": 49
        }
      ]
    },
    {
      "cell_type": "markdown",
      "metadata": {
        "id": "1kTjxtlvW0xS"
      },
      "source": [
        "Omitir el primer índice por default nos da el índice `0` y omitir el último índice por default nos da el tamaño de la cadena de caracteres:"
      ]
    },
    {
      "cell_type": "code",
      "metadata": {
        "id": "KRxWNACbXI2q",
        "colab": {
          "base_uri": "https://localhost:8080/",
          "height": 35
        },
        "outputId": "aa799735-1f35-4aba-f478-11d00c458aba"
      },
      "source": [
        "palabra[ : 2] #Caracteres desde el comienzo hasta la posicion 2, la cual es excluida"
      ],
      "execution_count": 50,
      "outputs": [
        {
          "output_type": "execute_result",
          "data": {
            "application/vnd.google.colaboratory.intrinsic+json": {
              "type": "string"
            },
            "text/plain": [
              "'Py'"
            ]
          },
          "metadata": {},
          "execution_count": 50
        }
      ]
    },
    {
      "cell_type": "code",
      "metadata": {
        "id": "Nof6LbjzXUAC",
        "colab": {
          "base_uri": "https://localhost:8080/",
          "height": 35
        },
        "outputId": "01259920-abdb-4e13-ec5e-5c44dd665139"
      },
      "source": [
        "palabra[4: ] # caracteres desde la posicion 4(incluida) hasta el final"
      ],
      "execution_count": 51,
      "outputs": [
        {
          "output_type": "execute_result",
          "data": {
            "application/vnd.google.colaboratory.intrinsic+json": {
              "type": "string"
            },
            "text/plain": [
              "'on'"
            ]
          },
          "metadata": {},
          "execution_count": 51
        }
      ]
    },
    {
      "cell_type": "code",
      "metadata": {
        "id": "bi7BHg_XXb-Z",
        "colab": {
          "base_uri": "https://localhost:8080/",
          "height": 35
        },
        "outputId": "8c3c2b3d-9da8-4e8f-d041-4a41a2ab8fc0"
      },
      "source": [
        "palabra[-2: ] # caracteres desde la posicion -2(incluida) hasta el final"
      ],
      "execution_count": 52,
      "outputs": [
        {
          "output_type": "execute_result",
          "data": {
            "application/vnd.google.colaboratory.intrinsic+json": {
              "type": "string"
            },
            "text/plain": [
              "'on'"
            ]
          },
          "metadata": {},
          "execution_count": 52
        }
      ]
    },
    {
      "cell_type": "markdown",
      "metadata": {
        "id": "wl3Cr4XjXuWJ"
      },
      "source": [
        "Usar índices demasiado largos nos devolverá un *error*"
      ]
    },
    {
      "cell_type": "code",
      "metadata": {
        "id": "thuGPKX0XxVc",
        "colab": {
          "base_uri": "https://localhost:8080/",
          "height": 166
        },
        "outputId": "45f3a918-1e64-4f82-c20c-d583ac053044"
      },
      "source": [
        "palabra[42]"
      ],
      "execution_count": 53,
      "outputs": [
        {
          "output_type": "error",
          "ename": "IndexError",
          "evalue": "ignored",
          "traceback": [
            "\u001b[0;31m---------------------------------------------------------------------------\u001b[0m",
            "\u001b[0;31mIndexError\u001b[0m                                Traceback (most recent call last)",
            "\u001b[0;32m<ipython-input-53-a76d696cef5c>\u001b[0m in \u001b[0;36m<module>\u001b[0;34m()\u001b[0m\n\u001b[0;32m----> 1\u001b[0;31m \u001b[0mpalabra\u001b[0m\u001b[0;34m[\u001b[0m\u001b[0;36m42\u001b[0m\u001b[0;34m]\u001b[0m\u001b[0;34m\u001b[0m\u001b[0;34m\u001b[0m\u001b[0m\n\u001b[0m",
            "\u001b[0;31mIndexError\u001b[0m: string index out of range"
          ]
        }
      ]
    },
    {
      "cell_type": "code",
      "metadata": {
        "id": "X8OulJsuYHUd",
        "colab": {
          "base_uri": "https://localhost:8080/",
          "height": 35
        },
        "outputId": "eb7ab453-a52c-4746-cbe8-7b1198e0a4a7"
      },
      "source": [
        "palabra[42: ]"
      ],
      "execution_count": 55,
      "outputs": [
        {
          "output_type": "execute_result",
          "data": {
            "application/vnd.google.colaboratory.intrinsic+json": {
              "type": "string"
            },
            "text/plain": [
              "''"
            ]
          },
          "metadata": {},
          "execution_count": 55
        }
      ]
    },
    {
      "cell_type": "markdown",
      "metadata": {
        "id": "rdUowp3bYKVG"
      },
      "source": [
        "No podemos cambiar el tipo de cadenas de caracteres, son immutables. Por lo que si intentamos asignar un nuevo valor a una posición de una cadena, obtendremos un *error*:"
      ]
    },
    {
      "cell_type": "code",
      "metadata": {
        "id": "KQhrwcKTYj1W",
        "colab": {
          "base_uri": "https://localhost:8080/",
          "height": 166
        },
        "outputId": "f34ee24a-9a81-455a-bf28-8945734852f8"
      },
      "source": [
        "palabra[0] = \"J\""
      ],
      "execution_count": 56,
      "outputs": [
        {
          "output_type": "error",
          "ename": "TypeError",
          "evalue": "ignored",
          "traceback": [
            "\u001b[0;31m---------------------------------------------------------------------------\u001b[0m",
            "\u001b[0;31mTypeError\u001b[0m                                 Traceback (most recent call last)",
            "\u001b[0;32m<ipython-input-56-b7d64a14d9b1>\u001b[0m in \u001b[0;36m<module>\u001b[0;34m()\u001b[0m\n\u001b[0;32m----> 1\u001b[0;31m \u001b[0mpalabra\u001b[0m\u001b[0;34m[\u001b[0m\u001b[0;36m0\u001b[0m\u001b[0;34m]\u001b[0m \u001b[0;34m=\u001b[0m \u001b[0;34m\"J\"\u001b[0m\u001b[0;34m\u001b[0m\u001b[0;34m\u001b[0m\u001b[0m\n\u001b[0m",
            "\u001b[0;31mTypeError\u001b[0m: 'str' object does not support item assignment"
          ]
        }
      ]
    },
    {
      "cell_type": "markdown",
      "metadata": {
        "id": "QJGw1u-dYpzk"
      },
      "source": [
        "Si queremos una cadena de caracteres diferente, debemos crearla:"
      ]
    },
    {
      "cell_type": "code",
      "metadata": {
        "id": "U0SyR5rCYvP0",
        "colab": {
          "base_uri": "https://localhost:8080/",
          "height": 35
        },
        "outputId": "4bd68624-26cc-4652-a323-03ef71188934"
      },
      "source": [
        "\"J\" + palabra[1: ]"
      ],
      "execution_count": 57,
      "outputs": [
        {
          "output_type": "execute_result",
          "data": {
            "application/vnd.google.colaboratory.intrinsic+json": {
              "type": "string"
            },
            "text/plain": [
              "'Jython'"
            ]
          },
          "metadata": {},
          "execution_count": 57
        }
      ]
    },
    {
      "cell_type": "code",
      "metadata": {
        "id": "1F1XbrOOY5bh",
        "colab": {
          "base_uri": "https://localhost:8080/",
          "height": 35
        },
        "outputId": "d001c58b-9ae3-4e1f-da69-10bd9454d9f5"
      },
      "source": [
        "palabra[ : 2] + \"py\""
      ],
      "execution_count": 58,
      "outputs": [
        {
          "output_type": "execute_result",
          "data": {
            "application/vnd.google.colaboratory.intrinsic+json": {
              "type": "string"
            },
            "text/plain": [
              "'Pypy'"
            ]
          },
          "metadata": {},
          "execution_count": 58
        }
      ]
    },
    {
      "cell_type": "markdown",
      "metadata": {
        "id": "Xh4SkFaTY_L1"
      },
      "source": [
        "La función `len()` nos regresa el tamaño de la cadena:"
      ]
    },
    {
      "cell_type": "code",
      "metadata": {
        "id": "f_ycx28SZFIm",
        "colab": {
          "base_uri": "https://localhost:8080/"
        },
        "outputId": "fed2d801-7939-4c7e-cf45-ba9bd88be9f6"
      },
      "source": [
        "s = \"Bienvenidos al curso de Geometria Analitica II\"\n",
        "len(s)"
      ],
      "execution_count": 59,
      "outputs": [
        {
          "output_type": "execute_result",
          "data": {
            "text/plain": [
              "46"
            ]
          },
          "metadata": {},
          "execution_count": 59
        }
      ]
    },
    {
      "cell_type": "markdown",
      "metadata": {
        "id": "BhXkK-qhZTKA"
      },
      "source": [
        "### 1.3 Listas\n",
        "\n",
        "Python permite agrupar variables de diferentes tipos en un solo objeto, a estos objetos se les llama listas, y se escriben entre paréntesis cuadrados `[ ]`.\n"
      ]
    },
    {
      "cell_type": "code",
      "metadata": {
        "id": "y3amSiHoZiv9"
      },
      "source": [
        "lista=['a', 'b', 'ab', 1, 2, 1.0]"
      ],
      "execution_count": 60,
      "outputs": []
    },
    {
      "cell_type": "markdown",
      "metadata": {
        "id": "aEo59bynZlNA"
      },
      "source": [
        "Es común crear listas vacías para posteriormente agregar elementos a ella. Para crear una lista vacía simplemente no escribimos elementos:"
      ]
    },
    {
      "cell_type": "code",
      "metadata": {
        "id": "grf4lgR6Zp08"
      },
      "source": [
        "lista2=[]"
      ],
      "execution_count": 62,
      "outputs": []
    },
    {
      "cell_type": "markdown",
      "metadata": {
        "id": "mss30r5JZshS"
      },
      "source": [
        "Agregamos elementos a una lista con la instrucción `append`:"
      ]
    },
    {
      "cell_type": "code",
      "metadata": {
        "id": "Z_-jRe9sZwsd"
      },
      "source": [
        "lista2=[]\n",
        "elemento='a'\n",
        "lista2.append(elemento)"
      ],
      "execution_count": 64,
      "outputs": []
    },
    {
      "cell_type": "markdown",
      "metadata": {
        "id": "gUZ4mv6xZ4rI"
      },
      "source": [
        "Al igual que las cadenas de caracteres, las listas también tienen sus elementos indexados:"
      ]
    },
    {
      "cell_type": "code",
      "metadata": {
        "id": "NjYbbcVNaDmV",
        "colab": {
          "base_uri": "https://localhost:8080/"
        },
        "outputId": "9f2715a6-97f0-4162-cc35-ba5fc68cfce5"
      },
      "source": [
        "cuadrados = [1, 4, 9, 16, 25]\n",
        "cuadrados[-1] "
      ],
      "execution_count": 66,
      "outputs": [
        {
          "output_type": "execute_result",
          "data": {
            "text/plain": [
              "25"
            ]
          },
          "metadata": {},
          "execution_count": 66
        }
      ]
    },
    {
      "cell_type": "code",
      "metadata": {
        "id": "OpgCGXlnaOWc",
        "colab": {
          "base_uri": "https://localhost:8080/"
        },
        "outputId": "c6097502-00cb-4286-abec-459b0539c38e"
      },
      "source": [
        "cuadrados[-3: ]"
      ],
      "execution_count": 67,
      "outputs": [
        {
          "output_type": "execute_result",
          "data": {
            "text/plain": [
              "[9, 16, 25]"
            ]
          },
          "metadata": {},
          "execution_count": 67
        }
      ]
    },
    {
      "cell_type": "markdown",
      "metadata": {
        "id": "fW9yHI2AaSlo"
      },
      "source": [
        "También podemos concatenar listas:"
      ]
    },
    {
      "cell_type": "code",
      "metadata": {
        "id": "HhWuNCynagsV",
        "colab": {
          "base_uri": "https://localhost:8080/"
        },
        "outputId": "9cd88255-fd36-4290-9013-2153dd5139ed"
      },
      "source": [
        "cuadrados + [36, 49, 64, 81, 100]"
      ],
      "execution_count": 68,
      "outputs": [
        {
          "output_type": "execute_result",
          "data": {
            "text/plain": [
              "[1, 4, 9, 16, 25, 36, 49, 64, 81, 100]"
            ]
          },
          "metadata": {},
          "execution_count": 68
        }
      ]
    },
    {
      "cell_type": "markdown",
      "metadata": {
        "id": "2f1XqDDialiD"
      },
      "source": [
        "Pero a diferencia de las cadenas de caracteres, las listas son de tipo `mutable`, i.e. es posible cambiar su contenido:"
      ]
    },
    {
      "cell_type": "code",
      "metadata": {
        "id": "tNzWOWIRaw11"
      },
      "source": [
        "cubos = [1, 8, 27, 65, 125] # hay algo incorrecto"
      ],
      "execution_count": 69,
      "outputs": []
    },
    {
      "cell_type": "code",
      "metadata": {
        "id": "ShxxQLRka6UU",
        "colab": {
          "base_uri": "https://localhost:8080/"
        },
        "outputId": "70a9475f-6d59-49fe-aa42-220cd575cae6"
      },
      "source": [
        "4**3 # el cubo de 4 es 64, no 65"
      ],
      "execution_count": 70,
      "outputs": [
        {
          "output_type": "execute_result",
          "data": {
            "text/plain": [
              "64"
            ]
          },
          "metadata": {},
          "execution_count": 70
        }
      ]
    },
    {
      "cell_type": "code",
      "metadata": {
        "id": "IqWJMdbfa_AP"
      },
      "source": [
        "cubos[3] = 64 #reemplazamos el valor incorrecto en la lista"
      ],
      "execution_count": 71,
      "outputs": []
    },
    {
      "cell_type": "code",
      "metadata": {
        "id": "TCs9VSMkbGXP",
        "colab": {
          "base_uri": "https://localhost:8080/"
        },
        "outputId": "242519e5-9486-4102-8219-d7207a3ee8eb"
      },
      "source": [
        "cubos"
      ],
      "execution_count": 72,
      "outputs": [
        {
          "output_type": "execute_result",
          "data": {
            "text/plain": [
              "[1, 8, 27, 64, 125]"
            ]
          },
          "metadata": {},
          "execution_count": 72
        }
      ]
    },
    {
      "cell_type": "markdown",
      "metadata": {
        "id": "L7QTNgcFbRht"
      },
      "source": [
        "__Ejercicio:__ Añade a la lista `cubos` dos elementos más:"
      ]
    },
    {
      "cell_type": "code",
      "metadata": {
        "id": "oQ8WinQ2bfcz"
      },
      "source": [
        "#Escribe aqui tu resultado"
      ],
      "execution_count": 73,
      "outputs": []
    },
    {
      "cell_type": "markdown",
      "metadata": {
        "id": "a9_lQKcXbic5"
      },
      "source": [
        "También podemos reasignar varios elementos de la lista al mismo tiempo:"
      ]
    },
    {
      "cell_type": "code",
      "metadata": {
        "id": "Mm5ZBv9-by9I",
        "colab": {
          "base_uri": "https://localhost:8080/"
        },
        "outputId": "25ec62ab-ca73-4dd8-92e0-cd32a9328244"
      },
      "source": [
        "letras = ['a', 'b', 'c', 'd', 'e', 'f', 'g']\n",
        "letras"
      ],
      "execution_count": 74,
      "outputs": [
        {
          "output_type": "execute_result",
          "data": {
            "text/plain": [
              "['a', 'b', 'c', 'd', 'e', 'f', 'g']"
            ]
          },
          "metadata": {},
          "execution_count": 74
        }
      ]
    },
    {
      "cell_type": "code",
      "metadata": {
        "id": "0vugxQbrb9VX",
        "colab": {
          "base_uri": "https://localhost:8080/"
        },
        "outputId": "4339d435-4fc3-4ef7-8a7a-d1ebf5927cd9"
      },
      "source": [
        "#reemplazar varios valores:\n",
        "letras[2: 5] = ['C', 'D', 'E']\n",
        "letras"
      ],
      "execution_count": 75,
      "outputs": [
        {
          "output_type": "execute_result",
          "data": {
            "text/plain": [
              "['a', 'b', 'C', 'D', 'E', 'f', 'g']"
            ]
          },
          "metadata": {},
          "execution_count": 75
        }
      ]
    },
    {
      "cell_type": "code",
      "metadata": {
        "id": "xOqwf0_zcJ9K",
        "colab": {
          "base_uri": "https://localhost:8080/"
        },
        "outputId": "5eba8189-5624-492a-d4b0-9bcf45e896a8"
      },
      "source": [
        "#Ahora eliminaremos algunos valores\n",
        "letras[2: 5] = [ ]\n",
        "letras"
      ],
      "execution_count": 76,
      "outputs": [
        {
          "output_type": "execute_result",
          "data": {
            "text/plain": [
              "['a', 'b', 'f', 'g']"
            ]
          },
          "metadata": {},
          "execution_count": 76
        }
      ]
    },
    {
      "cell_type": "code",
      "metadata": {
        "id": "JR3riFXMcVI9",
        "colab": {
          "base_uri": "https://localhost:8080/"
        },
        "outputId": "1bc1b22e-0ec0-45a3-a5ca-4ffb7d0ead93"
      },
      "source": [
        "#Y podemos eliminar todos los elementos de la lista y reemplazar la lista por una lista vacia\n",
        "letras[ : ] = [ ]\n",
        "letras"
      ],
      "execution_count": 77,
      "outputs": [
        {
          "output_type": "execute_result",
          "data": {
            "text/plain": [
              "[]"
            ]
          },
          "metadata": {},
          "execution_count": 77
        }
      ]
    },
    {
      "cell_type": "markdown",
      "metadata": {
        "id": "42yE_Tchcjq8"
      },
      "source": [
        "La función `len()` también se puede usar en listas:"
      ]
    },
    {
      "cell_type": "code",
      "metadata": {
        "id": "7qNiZa78cpmD",
        "colab": {
          "base_uri": "https://localhost:8080/"
        },
        "outputId": "e333ae51-fb6e-4cf7-fbb2-ab3d68edaf0e"
      },
      "source": [
        "letras = ['a', 'b', 'c', 'd', 'e']\n",
        "len(letras)"
      ],
      "execution_count": 78,
      "outputs": [
        {
          "output_type": "execute_result",
          "data": {
            "text/plain": [
              "5"
            ]
          },
          "metadata": {},
          "execution_count": 78
        }
      ]
    },
    {
      "cell_type": "markdown",
      "metadata": {
        "id": "JQvjGZF8cyy0"
      },
      "source": [
        "También es posible anidar listas (crear listas que contienen listas):"
      ]
    },
    {
      "cell_type": "code",
      "metadata": {
        "id": "g0nfFOKmc4l3",
        "colab": {
          "base_uri": "https://localhost:8080/"
        },
        "outputId": "7000abe4-0784-4ec2-e0ac-3ded161e4718"
      },
      "source": [
        "a = ['a', 'b', 'c']\n",
        "n = [1, 2, 3]\n",
        "x = [a , n ]\n",
        "x"
      ],
      "execution_count": 79,
      "outputs": [
        {
          "output_type": "execute_result",
          "data": {
            "text/plain": [
              "[['a', 'b', 'c'], [1, 2, 3]]"
            ]
          },
          "metadata": {},
          "execution_count": 79
        }
      ]
    },
    {
      "cell_type": "code",
      "metadata": {
        "id": "4bYM1RSpdGWD",
        "colab": {
          "base_uri": "https://localhost:8080/"
        },
        "outputId": "2ed4fab1-2665-4bad-ddcf-083d65e3ea72"
      },
      "source": [
        "x[0]"
      ],
      "execution_count": 80,
      "outputs": [
        {
          "output_type": "execute_result",
          "data": {
            "text/plain": [
              "['a', 'b', 'c']"
            ]
          },
          "metadata": {},
          "execution_count": 80
        }
      ]
    },
    {
      "cell_type": "code",
      "metadata": {
        "id": "eFQMrZJtdI7Z",
        "colab": {
          "base_uri": "https://localhost:8080/",
          "height": 35
        },
        "outputId": "2fc4f051-bc30-4afe-9a2e-11612b423505"
      },
      "source": [
        "x[0][1]"
      ],
      "execution_count": 81,
      "outputs": [
        {
          "output_type": "execute_result",
          "data": {
            "application/vnd.google.colaboratory.intrinsic+json": {
              "type": "string"
            },
            "text/plain": [
              "'b'"
            ]
          },
          "metadata": {},
          "execution_count": 81
        }
      ]
    }
  ]
}