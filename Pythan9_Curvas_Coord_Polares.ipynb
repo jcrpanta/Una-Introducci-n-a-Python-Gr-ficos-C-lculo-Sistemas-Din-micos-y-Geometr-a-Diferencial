{
  "nbformat": 4,
  "nbformat_minor": 0,
  "metadata": {
    "colab": {
      "name": "Pythan9_Curvas_Coord_Polares.ipynb",
      "provenance": [],
      "collapsed_sections": [],
      "include_colab_link": true
    },
    "kernelspec": {
      "name": "python3",
      "display_name": "Python 3"
    }
  },
  "cells": [
    {
      "cell_type": "markdown",
      "metadata": {
        "id": "view-in-github",
        "colab_type": "text"
      },
      "source": [
        "<a href=\"https://colab.research.google.com/github/jcrpanta/Una-Introducci-n-a-Python-Gr-ficos-C-lculo-Sistemas-Din-micos-y-Geometr-a-Diferencial/blob/main/Pythan9_Curvas_Coord_Polares.ipynb\" target=\"_parent\"><img src=\"https://colab.research.google.com/assets/colab-badge.svg\" alt=\"Open In Colab\"/></a>"
      ]
    },
    {
      "cell_type": "markdown",
      "metadata": {
        "id": "2Zg_3lXznt6-"
      },
      "source": [
        "# Curvas en Coordenadas Polares"
      ]
    },
    {
      "cell_type": "markdown",
      "metadata": {
        "id": "rAoNsGT_nAev"
      },
      "source": [
        "Un Plano Polar es un plano que contiene como referencias ángulos y magnitudes, lo cual nos permite representar un punto en 2-dimensiones conociendo sus coordenadas polares. Este plano consiste de circunferencias concéntricas a un origen y rectas concurrentes a este con distintos ángulos de inclinación.\n",
        "\n",
        "En `Matplotlib` podemos trabajar con planos polares utilizando la instrucción (instancia):"
      ]
    },
    {
      "cell_type": "code",
      "metadata": {
        "id": "Bms-omhMLGKX"
      },
      "source": [
        "import matplotlib.pyplot as mplt\n",
        "import numpy as np\n",
        "\n",
        "ax = mplt.subplot(111, projection='polar')"
      ],
      "execution_count": null,
      "outputs": []
    },
    {
      "cell_type": "markdown",
      "metadata": {
        "id": "T60lvNNyBtbp"
      },
      "source": [
        "Análogamente al caso cartesiano, podemos definir relaciones funcionales entre las 'variables polares'. Es común pensar, por ejemplo, a la variable $\\theta$ como función de $r$, es decir, $\\hspace{2pt}\\theta=\\theta(r)$. Lo que nos permite plasmar ciertas gráficas (muy estéticas) en el plano que no se pueden obtener de manera inmediata utilizando coordenadas cartesianas. "
      ]
    },
    {
      "cell_type": "code",
      "metadata": {
        "id": "s-qoqeGOFeuV"
      },
      "source": [
        "import matplotlib.pyplot as mplt\n",
        "import numpy as np\n",
        "\n",
        "# Se establece que la gráfica será polar\n",
        "\n",
        "ax = mplt.subplot(111, projection='polar')\n",
        "\n",
        "# Le damos un tamaño suficiente al dominio, pues puede dar varias vueltas al polo\n",
        "# el valor \"0.01\" marca el paso de avance sobre el dominio, al evaluar la función\n",
        "\n",
        "r2 = np.arange(0, 20*np.pi, 0.01)\n",
        "\n",
        "# Definimos, en este caso, al ángulo como función del radio\n",
        "\n",
        "theta2 = r2**3\n",
        "\n",
        "# Se ejecuta la gráfica de la función\n",
        "\n",
        "mplt.polar(r2, theta2)\n",
        "\n",
        "# Se muestra la gráfica\n",
        "\n",
        "mplt.show()"
      ],
      "execution_count": null,
      "outputs": []
    },
    {
      "cell_type": "markdown",
      "metadata": {
        "id": "-rGW5ic6TMde"
      },
      "source": [
        "Como mencionamos anteriormente, la variable radial $r$ admite valores negativos. "
      ]
    },
    {
      "cell_type": "markdown",
      "metadata": {
        "id": "4pf6iyM7Vnm7"
      },
      "source": [
        "\n",
        "\n",
        "---\n",
        "\n",
        "\n",
        "\n",
        "---\n",
        "\n"
      ]
    },
    {
      "cell_type": "markdown",
      "metadata": {
        "id": "vTvTxft_KkMr"
      },
      "source": [
        "## Lemniscata"
      ]
    },
    {
      "cell_type": "markdown",
      "metadata": {
        "id": "pK181U9qKvY6"
      },
      "source": [
        "La *Lemniscata* está definida por la siguiente ecuación,"
      ]
    },
    {
      "cell_type": "markdown",
      "metadata": {
        "id": "DLvwtaRQLIJe"
      },
      "source": [
        "$r^2=a^2 \\cos(2\\theta)$:"
      ]
    },
    {
      "cell_type": "code",
      "metadata": {
        "id": "0CcdlwfBKfJS"
      },
      "source": [
        "import matplotlib.pyplot as mplt\n",
        "import numpy as np\n",
        "\n",
        "ax = mplt.subplot(111, projection='polar')\n",
        "\n",
        "# r = np.arange(0, 3*np.pi, 0.01)\n",
        "\n",
        "theta = np.linspace(0,2*np.pi, 10000) # linspace divide el intervalo (0, 2pi) en 10000 partes iguales\n",
        "\n",
        "\n",
        "# La ecuación de la Lemniscata es, para una constante a, por ejemplo\n",
        "\n",
        "a = 3\n",
        "r = np.sqrt((a**2)*np.cos(2*theta))\n",
        "\n",
        "mplt.polar(r, theta)\n",
        "mplt.show()"
      ],
      "execution_count": null,
      "outputs": []
    },
    {
      "cell_type": "markdown",
      "metadata": {
        "id": "-3s6424JOgPe"
      },
      "source": [
        "Aquí vimos una primera rama, para tener ambas ramas de la raíz cuadrada, hay que incluir la parte negativa (a mano)."
      ]
    },
    {
      "cell_type": "code",
      "metadata": {
        "id": "aTmevi8KOuWX"
      },
      "source": [
        "import matplotlib.pyplot as mplt\n",
        "import numpy as np\n",
        "\n",
        "ax = mplt.subplot(111, projection='polar')\n",
        "\n",
        "# r = np.arange(0, 3*np.pi, 0.01)\n",
        "\n",
        "theta = np.linspace(0,4*np.pi,100000) # linspace divide el intervalo (0, 4pi) en 100000 partes iguales\n",
        "\n",
        "# Ahora escribimos la ecuación de la Lemniscata para cada rama\n",
        "\n",
        "a = 5\n",
        "\n",
        "r1 = np.sqrt((a**2)*np.cos(2*theta)) # ecuación de la rama positiva\n",
        "\n",
        "r2 = -np.sqrt((a**2)*np.cos(2*theta)) # ecuación de  la rama negativa\n",
        "\n",
        "mplt.polar(r1, theta) # se grafica la rama positiva\n",
        "mplt.polar(r2, theta) # se grafica la rama negativa\n",
        "mplt.show()"
      ],
      "execution_count": null,
      "outputs": []
    },
    {
      "cell_type": "markdown",
      "metadata": {
        "id": "CjmeDXc6S3PI"
      },
      "source": [
        "**Ejercicio 1:** Grafique para 5 valores distintos de $a$ las Lemniscatas correspondientes."
      ]
    },
    {
      "cell_type": "markdown",
      "metadata": {
        "id": "QmJ4-bhkVr6q"
      },
      "source": [
        "\n",
        "\n",
        "---\n",
        "\n",
        "\n",
        "\n",
        "---\n",
        "\n"
      ]
    },
    {
      "cell_type": "markdown",
      "metadata": {
        "id": "aNBjAEJjY0_L"
      },
      "source": [
        "## Cardioide"
      ]
    },
    {
      "cell_type": "markdown",
      "metadata": {
        "id": "g3kymQqZY64m"
      },
      "source": [
        "La *Cardioide* está definida por la siguiente ecuación,"
      ]
    },
    {
      "cell_type": "markdown",
      "metadata": {
        "id": "FdrzPRSTZJs7"
      },
      "source": [
        "$r=a(1+\\cos(\\theta))$:"
      ]
    },
    {
      "cell_type": "code",
      "metadata": {
        "id": "NB5408vGZh_f"
      },
      "source": [
        "import matplotlib.pyplot as mplt\n",
        "import numpy as np\n",
        "\n",
        "ax = mplt.subplot(111, projection='polar')\n",
        "\n",
        "theta = np.linspace(0,2*np.pi,10000) # linspace divide el intervalo (0, 2pi) en 10000 partes iguales\n",
        "\n",
        "# Cardioide\n",
        "\n",
        "a = 7\n",
        "\n",
        "r = a*( 1 + np.cos(theta))\n",
        "\n",
        "mplt.polar(theta, r, label='$r=a\\cdot (1+\\cos(\\\\theta))$, Cardioide')\n",
        "\n",
        "ax.legend(loc='upper center', bbox_to_anchor=(0.5, -0.1)) \n",
        "# Con esta instrucción modifico el lugar a imprimir la leyenda\n",
        "mplt.show()"
      ],
      "execution_count": null,
      "outputs": []
    },
    {
      "cell_type": "markdown",
      "metadata": {
        "id": "GNgkwkHu5Cdm"
      },
      "source": [
        "**Ejercicio 2:** Grafique para 5 valores distintos de $a$ las Cardioides correspondientes."
      ]
    },
    {
      "cell_type": "markdown",
      "metadata": {
        "id": "ZVy67P1qVdjc"
      },
      "source": [
        "\n",
        "\n",
        "---\n",
        "\n",
        "\n",
        "\n",
        "---\n",
        "\n"
      ]
    },
    {
      "cell_type": "markdown",
      "metadata": {
        "id": "8jFeLV5gT5r1"
      },
      "source": [
        "## Caracol de Pascal"
      ]
    },
    {
      "cell_type": "markdown",
      "metadata": {
        "id": "vxBu1O8xUDmy"
      },
      "source": [
        "El *Caracol de Pascal* está definido por la siguiente ecuación,"
      ]
    },
    {
      "cell_type": "markdown",
      "metadata": {
        "id": "WGbW7NAVUGbD"
      },
      "source": [
        "$r=b+a\\cos(\\theta))$:"
      ]
    },
    {
      "cell_type": "code",
      "metadata": {
        "id": "_72ABza4UVxR"
      },
      "source": [
        "import matplotlib.pyplot as mplt\n",
        "import numpy as np\n",
        "\n",
        "ax = mplt.subplot(111, projection='polar')\n",
        "\n",
        "theta = np.linspace(0,2*np.pi,10000) # linspace divide el intervalo (0, 2pi) en 10000 partes iguales\n",
        "\n",
        "# Caracol de Pascal \n",
        "\n",
        "a = 4\n",
        "b = 7\n",
        "\n",
        "r = b + np.cos(a*theta)\n",
        "\n",
        "# Usando \"label=\" podemos incluir la ecuación y su nombre:\n",
        "\n",
        "mplt.polar(theta, r, label='$r=2 + \\cos(3\\\\theta)$, Caracol de Pascal')\n",
        "\n",
        "ax.set_rticks([1, 2]) \n",
        "# Con esta instrucción ajusto el número de círculos y el radio correspondiente a visulizar en el plano polar\n",
        "ax.legend(loc='upper center', bbox_to_anchor=(0.5, -0.1)) \n",
        "# Con esta instrucción modifico el lugar a imprimir la leyenda\n",
        "mplt.show()"
      ],
      "execution_count": null,
      "outputs": []
    },
    {
      "cell_type": "markdown",
      "metadata": {
        "id": "pfPSJhflVPKQ"
      },
      "source": [
        "**Ejercicio 3:** Grafique para 2 valores distintos de $a$ y 2 valores distintos de $b$ los Caracoles de Pascal correspondientes."
      ]
    },
    {
      "cell_type": "markdown",
      "metadata": {
        "id": "qi42ZEGUVbXB"
      },
      "source": [
        "\n",
        "\n",
        "---\n",
        "\n",
        "\n",
        "\n",
        "---\n",
        "\n"
      ]
    },
    {
      "cell_type": "markdown",
      "metadata": {
        "id": "KzMwoEW2WMSf"
      },
      "source": [
        "## Funciones Trigonométricas"
      ]
    },
    {
      "cell_type": "markdown",
      "metadata": {
        "id": "kp_jePIj5rYi"
      },
      "source": [
        "$r=\\sin(n\\theta)$, $n=2,3$:"
      ]
    },
    {
      "cell_type": "code",
      "metadata": {
        "id": "rbsGVaE35msc"
      },
      "source": [
        "import matplotlib.pyplot as mplt\n",
        "import numpy as np\n",
        "\n",
        "ax = mplt.subplot(111, projection='polar')\n",
        "\n",
        "theta5 = np.linspace(0,2*np.pi,10000) \n",
        "r5 = np.sin(2*theta5)\n",
        "r6 = np.sin(3*theta5)\n",
        "\n",
        "mplt.polar(theta5, r5, label='$r=\\sin(2\\\\theta)$')\n",
        "mplt.polar(theta5, r6, label='$r=\\sin(3\\\\theta)$')\n",
        "ax.set_rticks([1, 2]) \n",
        "ax.legend(loc='upper center', bbox_to_anchor=(0.5, -0.1)) \n",
        "mplt.show()"
      ],
      "execution_count": null,
      "outputs": []
    },
    {
      "cell_type": "markdown",
      "metadata": {
        "id": "gl8pmwgm9S9B"
      },
      "source": [
        "**Ejercicio 4:** Deduzca qué figura dibujará la gráfica de la función $\\hspace{2pt}r=sin(n\\theta)$, para $\\hspace{2pt}n \\in \\mathbb{N}$."
      ]
    },
    {
      "cell_type": "markdown",
      "metadata": {
        "id": "RGezwJP5j10M"
      },
      "source": [
        "\n",
        "\n",
        "---\n",
        "\n",
        "\n",
        "\n",
        "---\n",
        "\n"
      ]
    },
    {
      "cell_type": "markdown",
      "metadata": {
        "id": "du0xmn21j6tx"
      },
      "source": [
        "## Espirales"
      ]
    },
    {
      "cell_type": "markdown",
      "metadata": {
        "id": "VRjNw_f-kEfx"
      },
      "source": [
        "La *Espiral logarítmica* está definido por la siguiente ecuación,"
      ]
    },
    {
      "cell_type": "markdown",
      "metadata": {
        "id": "Ys1RUUKnkIuQ"
      },
      "source": [
        "$r=c\\exp(-m\\theta)$:"
      ]
    },
    {
      "cell_type": "code",
      "metadata": {
        "id": "VMSl4mOokspi"
      },
      "source": [
        "import matplotlib.pyplot as mplt\n",
        "import numpy as np\n",
        "\n",
        "ax = mplt.subplot(111, projection='polar')\n",
        "\n",
        "theta = np.linspace(0,200*np.pi,10000) # linspace divide el intervalo (0, 2pi) en 10000 partes iguales\n",
        "\n",
        "# Espiral logarítmica\n",
        "\n",
        "c = 5\n",
        "m = .01\n",
        "\n",
        "r = c*np.exp(-m*theta)\n",
        "\n",
        "# Usando \"label=\" podemos incluir la ecuación y su nombre:\n",
        "\n",
        "mplt.polar(theta, r, label='$r=c e^{-m\\\\theta}$, Espiral logarítmica')\n",
        "\n",
        "ax.set_rticks([1, 2]) \n",
        "# Con esta instrucción ajusto el número de círculos y el radio correspondiente a visulizar en el plano polar\n",
        "ax.legend(loc='upper center', bbox_to_anchor=(0.5, -0.1)) \n",
        "# Con esta instrucción modifico el lugar a imprimir la leyenda\n",
        "mplt.show()"
      ],
      "execution_count": null,
      "outputs": []
    },
    {
      "cell_type": "markdown",
      "metadata": {
        "id": "wgdRfkObl1tL"
      },
      "source": [
        "\n",
        "\n",
        "---\n",
        "\n",
        "\n",
        "\n",
        "---\n",
        "\n"
      ]
    },
    {
      "cell_type": "markdown",
      "metadata": {
        "id": "DrG_2jfIlv1V"
      },
      "source": [
        "La *Espiral de Arquímides* está definido por la siguiente ecuación,"
      ]
    },
    {
      "cell_type": "markdown",
      "metadata": {
        "id": "_synEmX2mAhM"
      },
      "source": [
        "$r=a\\theta$:"
      ]
    },
    {
      "cell_type": "code",
      "metadata": {
        "id": "w2Paih6HmN7M"
      },
      "source": [
        "import matplotlib.pyplot as mplt\n",
        "import numpy as np\n",
        "\n",
        "ax = mplt.subplot(111, projection='polar')\n",
        "\n",
        "theta = np.linspace(0,20*np.pi,1000) # linspace divide el intervalo (0, 2pi) en 10000 partes iguales\n",
        "\n",
        "# Espiral de Arquímides\n",
        "\n",
        "a = 100\n",
        "\n",
        "r = a*theta\n",
        "\n",
        "# Usando \"label=\" podemos incluir la ecuación y su nombre:\n",
        "\n",
        "mplt.polar(theta, r, label='$r=a\\\\theta$, Espiral de Arquímides')\n",
        "ax.legend(loc='upper center', bbox_to_anchor=(0.5, 1.25)) \n",
        "# Con esta instrucción modifico el lugar a imprimir la leyenda\n",
        "\n",
        "mplt.show()"
      ],
      "execution_count": null,
      "outputs": []
    },
    {
      "cell_type": "markdown",
      "metadata": {
        "id": "5Y7tS1F2pQFe"
      },
      "source": [
        "\n",
        "\n",
        "---\n",
        "\n",
        "\n",
        "\n",
        "---\n",
        "\n"
      ]
    },
    {
      "cell_type": "markdown",
      "metadata": {
        "id": "jb51Opo6qEEd"
      },
      "source": [
        "## Espiral Hiperbólica"
      ]
    },
    {
      "cell_type": "markdown",
      "metadata": {
        "id": "-E7njcL9pW60"
      },
      "source": [
        "La *Espiral Hiperbólica* está definido por la siguiente ecuación,"
      ]
    },
    {
      "cell_type": "markdown",
      "metadata": {
        "id": "HrR8q5hIpW61"
      },
      "source": [
        "$r\\theta=c$:"
      ]
    },
    {
      "cell_type": "code",
      "metadata": {
        "id": "RAbhazrRpW61"
      },
      "source": [
        "import matplotlib.pyplot as mplt\n",
        "import numpy as np\n",
        "\n",
        "ax = mplt.subplot(111, projection='polar')\n",
        "\n",
        "theta = np.linspace(1E-300, 2*np.pi, 1000) # linspace divide el intervalo (0, 2pi) en 10000 partes iguales\n",
        "\n",
        "# Espiral Hiperbólica\n",
        "c = 4\n",
        "r = c / theta\n",
        "\n",
        "# Usando \"label=\" podemos incluir la ecuación y su nombre:\n",
        "mplt.polar(r, theta, label='$r\\\\theta=c$, Espiral Hiperbólica')\n",
        "ax.legend(loc='upper center', bbox_to_anchor=(0.5, -0.1))\n",
        "# Con esta instrucción modifico el lugar a imprimir la leyenda\n",
        "\n",
        "mplt.show()"
      ],
      "execution_count": null,
      "outputs": []
    },
    {
      "cell_type": "markdown",
      "metadata": {
        "id": "lCLykVp8qMIv"
      },
      "source": [
        "## Ejercicio: Grafique el Ovalo de Cassini"
      ]
    },
    {
      "cell_type": "markdown",
      "metadata": {
        "id": "GDlkRB8vqee_"
      },
      "source": [
        "$r^{4}+a^{4}-2a^{2}r^{2}\\cos(2\\theta)=b^{4}$"
      ]
    },
    {
      "cell_type": "code",
      "metadata": {
        "id": "fwQRr1PMq35V"
      },
      "source": [
        "import matplotlib.pyplot as mplt\n",
        "import numpy as np\n",
        "\n",
        "ax = mplt.subplot(111, projection='polar')\n",
        "\n",
        "theta = np.linspace(0,3*np.pi,1000) # linspace divide el intervalo (0, 2pi) en 10000 partes iguales\n",
        "\n",
        "# Ovalo de Cassini\n",
        "\n",
        "# Escriba aquí las ecuaciones necesarias\n",
        "r = '' \n",
        "\n",
        "# Usando \"label=\" podemos incluir la ecuación y su nombre:\n",
        "\n",
        "mplt.polar(theta, r, label=' Ovalo de Cassini')\n",
        "ax.legend(loc='upper center', bbox_to_anchor=(0.5, -0.1)) \n",
        "# Con esta instrucción modifico el lugar a imprimir la leyenda\n",
        "\n",
        "mplt.show()"
      ],
      "execution_count": null,
      "outputs": []
    },
    {
      "cell_type": "markdown",
      "metadata": {
        "id": "kjmghIDYADUX"
      },
      "source": [
        "## Tarea; hacer animaciones en gifs!!! "
      ]
    },
    {
      "cell_type": "markdown",
      "metadata": {
        "id": "G4rbJlFvhRq3"
      },
      "source": [
        "https://brushingupscience.com/2019/08/01/elaborate-matplotlib-animations/\n",
        "\n",
        "https://gist.github.com/hugke729/5f0530660cf35ae5120b2705f0eef0d6"
      ]
    }
  ]
}