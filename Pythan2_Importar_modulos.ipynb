{
  "nbformat": 4,
  "nbformat_minor": 0,
  "metadata": {
    "colab": {
      "name": "Pythan2_Importar_modulos.ipynb",
      "provenance": [],
      "collapsed_sections": [],
      "include_colab_link": true
    },
    "kernelspec": {
      "name": "python3",
      "display_name": "Python 3"
    }
  },
  "cells": [
    {
      "cell_type": "markdown",
      "metadata": {
        "id": "view-in-github",
        "colab_type": "text"
      },
      "source": [
        "<a href=\"https://colab.research.google.com/github/jcrpanta/Una-Introducci-n-a-Python-Gr-ficos-C-lculo-Sistemas-Din-micos-y-Geometr-a-Diferencial/blob/main/Pythan2_Importar_modulos.ipynb\" target=\"_parent\"><img src=\"https://colab.research.google.com/assets/colab-badge.svg\" alt=\"Open In Colab\"/></a>"
      ]
    },
    {
      "cell_type": "markdown",
      "metadata": {
        "id": "Eqxvov9RxlXx"
      },
      "source": [
        "# Importar módulos"
      ]
    },
    {
      "cell_type": "markdown",
      "metadata": {
        "id": "hHhum883xsK-"
      },
      "source": [
        "Un módulo es un script que contiene código de Pyhton. Su extención es `.py`. En los módulos se almacenan _variables_ y _funciones_ que nos permiten realizar ciertas actividades de manera más automatizada. \n",
        "\n",
        "Python cuenta con una biblioteca de módulos estándar. Algunos módulos se integran en el intérprete y estos proveen acceso a operaciones que no son parte del núcleo de Python pero que si están integrados.\n",
        "\n",
        "**La forma en la que podemos agregar un módulo a Python es con la función `import`.** Por ejemplo, el módulo [`math`](https://docs.python.org/3.7/library/math.html#module-math), que nos permite realizar operaciones como raiz cuadrada, usar funciones trigonométricas, exponenciales, etc., se importa de la siguiente manera:"
      ]
    },
    {
      "cell_type": "code",
      "metadata": {
        "id": "_vF3Zmn61YvO"
      },
      "source": [
        "import math # De esta forma importamos el módulo math"
      ],
      "execution_count": 1,
      "outputs": []
    },
    {
      "cell_type": "markdown",
      "metadata": {
        "id": "Fp4uyJZv14No"
      },
      "source": [
        " Podemos importar solo algunas funciones de los módulos o importar todas las funciones. También podemos importar un módulo y renombrarlo para acceder a las funciones de una forma más sencilla."
      ]
    },
    {
      "cell_type": "code",
      "metadata": {
        "id": "XY8gQc_62Svn"
      },
      "source": [
        "from math import sqrt, exp # Solo estamos importando las funciones raiz cuadrada y exponencial"
      ],
      "execution_count": 2,
      "outputs": []
    },
    {
      "cell_type": "markdown",
      "metadata": {
        "id": "-2v3Y8Ln2lTE"
      },
      "source": [
        "Al importar de esta manera las funciones, si queremos usarlas, solo debemos de llamarlas con el respectivo nombre."
      ]
    },
    {
      "cell_type": "code",
      "metadata": {
        "id": "l7p8FUMb2hhb",
        "colab": {
          "base_uri": "https://localhost:8080/"
        },
        "outputId": "739bc68d-0f87-44ec-fafc-4feee826dea9"
      },
      "source": [
        "sqrt(25)"
      ],
      "execution_count": 3,
      "outputs": [
        {
          "output_type": "execute_result",
          "data": {
            "text/plain": [
              "5.0"
            ]
          },
          "metadata": {},
          "execution_count": 3
        }
      ]
    },
    {
      "cell_type": "code",
      "metadata": {
        "id": "nVXKQclTcKeu",
        "colab": {
          "base_uri": "https://localhost:8080/"
        },
        "outputId": "7a2bdcc1-3a8a-4950-9a67-39c7bfca0683"
      },
      "source": [
        "exp(25)"
      ],
      "execution_count": 4,
      "outputs": [
        {
          "output_type": "execute_result",
          "data": {
            "text/plain": [
              "72004899337.38588"
            ]
          },
          "metadata": {},
          "execution_count": 4
        }
      ]
    },
    {
      "cell_type": "markdown",
      "metadata": {
        "id": "k_I1tyy72xv2"
      },
      "source": [
        "Cuando importamos un módulo con la sintaxis `import math`, para poder usar las funciones debemos llamarlas de la siguiente manera:"
      ]
    },
    {
      "cell_type": "code",
      "metadata": {
        "id": "xApAyklB269c"
      },
      "source": [
        "import math"
      ],
      "execution_count": 5,
      "outputs": []
    },
    {
      "cell_type": "code",
      "metadata": {
        "id": "OrebnXL92837",
        "colab": {
          "base_uri": "https://localhost:8080/"
        },
        "outputId": "93956985-5f06-4a7c-e2c5-d72e3125d6ac"
      },
      "source": [
        "math.sqrt(25)"
      ],
      "execution_count": 6,
      "outputs": [
        {
          "output_type": "execute_result",
          "data": {
            "text/plain": [
              "5.0"
            ]
          },
          "metadata": {},
          "execution_count": 6
        }
      ]
    },
    {
      "cell_type": "markdown",
      "metadata": {
        "id": "nhxklz6d3JRY"
      },
      "source": [
        "**¿Qué sucede si importamos un módulo con la sintaxis `import math` y tratamos de usar una función sin antes colocar la palabra `math`?**"
      ]
    },
    {
      "cell_type": "code",
      "metadata": {
        "id": "-8eCO2402_v7",
        "colab": {
          "base_uri": "https://localhost:8080/",
          "height": 164
        },
        "outputId": "1ee2d095-ee27-446e-a140-0d90a41028c7"
      },
      "source": [
        "sin(25) # Función sen(x)"
      ],
      "execution_count": 7,
      "outputs": [
        {
          "output_type": "error",
          "ename": "NameError",
          "evalue": "ignored",
          "traceback": [
            "\u001b[0;31m---------------------------------------------------------------------------\u001b[0m",
            "\u001b[0;31mNameError\u001b[0m                                 Traceback (most recent call last)",
            "\u001b[0;32m<ipython-input-7-e7ae976fe781>\u001b[0m in \u001b[0;36m<module>\u001b[0;34m()\u001b[0m\n\u001b[0;32m----> 1\u001b[0;31m \u001b[0msin\u001b[0m\u001b[0;34m(\u001b[0m\u001b[0;36m25\u001b[0m\u001b[0;34m)\u001b[0m \u001b[0;31m# Función sen(x)\u001b[0m\u001b[0;34m\u001b[0m\u001b[0;34m\u001b[0m\u001b[0m\n\u001b[0m",
            "\u001b[0;31mNameError\u001b[0m: name 'sin' is not defined"
          ]
        }
      ]
    },
    {
      "cell_type": "code",
      "metadata": {
        "id": "30ZKOxeY3A_-"
      },
      "source": [
        "# ¿De qué manera se debe usar la función sen(x)? Escribe aqui tu respuesta:"
      ],
      "execution_count": null,
      "outputs": []
    },
    {
      "cell_type": "markdown",
      "metadata": {
        "id": "PiguHmwZ3l8o"
      },
      "source": [
        "Como mencionamos anteriormente, también podemos renombrar los módulos de tal forma que sean más fáciles de usar. La forma de hacerlo es la siguiente:"
      ]
    },
    {
      "cell_type": "code",
      "metadata": {
        "id": "4fCjGrrS4Cks"
      },
      "source": [
        "import math as mt # Con esto renombramos el módulo math como mt. En general, a la palabra que utilizamos para renombrar un módulo se le denomina 'alias'."
      ],
      "execution_count": 8,
      "outputs": []
    },
    {
      "cell_type": "code",
      "metadata": {
        "id": "ABaVbQaz4Mnu",
        "colab": {
          "base_uri": "https://localhost:8080/"
        },
        "outputId": "fb92acf8-e209-4807-94ee-fe33cb4a721f"
      },
      "source": [
        "mt.sqrt(25) # Ahora, en lugar de escribir math.sqrt, debemos/podemos escribir mt.sqrt"
      ],
      "execution_count": 9,
      "outputs": [
        {
          "output_type": "execute_result",
          "data": {
            "text/plain": [
              "5.0"
            ]
          },
          "metadata": {},
          "execution_count": 9
        }
      ]
    }
  ]
}