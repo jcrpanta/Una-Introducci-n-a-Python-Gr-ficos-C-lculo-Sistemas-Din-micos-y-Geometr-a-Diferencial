{
  "nbformat": 4,
  "nbformat_minor": 0,
  "metadata": {
    "colab": {
      "name": "Pythan7_Mathplotlib.ipynb",
      "provenance": [],
      "collapsed_sections": [],
      "include_colab_link": true
    },
    "kernelspec": {
      "name": "python3",
      "display_name": "Python 3"
    }
  },
  "cells": [
    {
      "cell_type": "markdown",
      "metadata": {
        "id": "view-in-github",
        "colab_type": "text"
      },
      "source": [
        "<a href=\"https://colab.research.google.com/github/jcrpanta/Una-Introducci-n-a-Python-Gr-ficos-C-lculo-Sistemas-Din-micos-y-Geometr-a-Diferencial/blob/main/Pythan7_Mathplotlib.ipynb\" target=\"_parent\"><img src=\"https://colab.research.google.com/assets/colab-badge.svg\" alt=\"Open In Colab\"/></a>"
      ]
    },
    {
      "cell_type": "markdown",
      "metadata": {
        "id": "XmH_bvuK0v8g"
      },
      "source": [
        "# Graficando con Matplotlib"
      ]
    },
    {
      "cell_type": "markdown",
      "metadata": {
        "id": "8L7x4dMR1ZXp"
      },
      "source": [
        "`Matplotlib` es una librería de Python que nos ayuda a realizar un análisis gráfico de datos (números). En principio, no está pensado para ser solamente un graficador de funciones (en $\\mathbb{R}$ ó $\\mathbb{R}^{n}$), sino algo más potente que eso. Pero, en particular, podemos recurrir a `Matplotlib` para visualizar gráficas de funciones en dos o tres dimensiones.\n",
        "\n",
        "Como con la mayoría de librerías de Python, para poder utilizar `Matplotlib` primero debemos **importarla**. Cabe mencionar que se ha vuelto usual utilizar el alias `mplot` para la importación de `Matplotlib`."
      ]
    },
    {
      "cell_type": "code",
      "metadata": {
        "id": "r-1tRzIi_Pcf"
      },
      "source": [
        "import matplotlib.pyplot as mplot"
      ],
      "execution_count": null,
      "outputs": []
    },
    {
      "cell_type": "markdown",
      "metadata": {
        "id": "BPymysNc8qUa"
      },
      "source": [
        "**Observación:** Notemos que se ha importado `matplotlib` con una instrucción ligeramente distinta de las que conocemos hasta esta sección, `matplotlib.pyplot`. De momento, quedémonos con que `pyplot` es un módulo de `Matplotlib` que nos proveé una interfaz que permite realizar acciones más avanzadas con nuestros gráficos, como tener un control más preciso de los elementos en varias gráficas.\n",
        "\n",
        "Si bien `Matplotlib` por si sólo tiene la capacidad de realizar gráficos de ciertas funciones, conviene de momento utilizarlo junto con el módulo de Python `NumPy`para este propósito."
      ]
    },
    {
      "cell_type": "code",
      "metadata": {
        "id": "HCMf-W91HBzr"
      },
      "source": [
        "import matplotlib.pyplot as mplot\n",
        "import numpy as np"
      ],
      "execution_count": null,
      "outputs": []
    },
    {
      "cell_type": "markdown",
      "metadata": {
        "id": "laaxoGm8-UQ1"
      },
      "source": [
        "## Gráficas en 2D"
      ]
    },
    {
      "cell_type": "markdown",
      "metadata": {
        "id": "7_Xdzc43-8iG"
      },
      "source": [
        "Uno de los objetos geométricos más elementales que podemos graficar en el plano cartesiano es una recta, en particular, la recta dada por la función identidad $y=x$. Veamos una manera de hacer esto con `Matplotlib`."
      ]
    },
    {
      "cell_type": "markdown",
      "metadata": {
        "id": "I0KJlYTBPJdq"
      },
      "source": [
        "Función $y=x$:"
      ]
    },
    {
      "cell_type": "code",
      "metadata": {
        "id": "HtPfJEmXAK3S"
      },
      "source": [
        "import matplotlib.pyplot as mplot\n",
        "import numpy as np\n",
        "\n",
        "x = np.arange(-1, 1, 0.01) # el primer argumento indica el primer valor de la variable x, el segundo el último y el tercer argumento el tamaño de paso.\n",
        "y = x # aquí indicamos la dependencia funcional de la variable y respecto a x.\n",
        "\n",
        "mplot.plot(x, y) # la función plot() crea la gráfica asociada a y = x.\n",
        "mplot.show # con la función show() podemos visualizar la gráfica anteriormente creada."
      ],
      "execution_count": null,
      "outputs": []
    },
    {
      "cell_type": "markdown",
      "metadata": {
        "id": "tOS-unkvPSSI"
      },
      "source": [
        "Función $y=-x^2$:"
      ]
    },
    {
      "cell_type": "code",
      "metadata": {
        "id": "L9zcL5pFNrxp"
      },
      "source": [
        "import matplotlib.pyplot as mplot\n",
        "import numpy as np\n",
        "\n",
        "x = np.arange(-2, 2, 0.01) # aquí x toma valores en el intervalo [-2,2).\n",
        "y = -x**2\n",
        "\n",
        "mplot.plot(x, y)\n",
        "mplot.show"
      ],
      "execution_count": null,
      "outputs": []
    },
    {
      "cell_type": "markdown",
      "metadata": {
        "id": "syV-cTxLLRDm"
      },
      "source": [
        "**Ejercicio 1.** Grafique las funciones $y=2x+1\\text{ }$ y $\\text{ }y=x^2+1$."
      ]
    },
    {
      "cell_type": "code",
      "metadata": {
        "id": "aEgBFD8mLjGq"
      },
      "source": [
        "# Primera función:"
      ],
      "execution_count": null,
      "outputs": []
    },
    {
      "cell_type": "code",
      "metadata": {
        "id": "rRdljQDBLj5z"
      },
      "source": [
        "# Segunda función:"
      ],
      "execution_count": null,
      "outputs": []
    },
    {
      "cell_type": "markdown",
      "metadata": {
        "id": "lfHQfiNfQAUv"
      },
      "source": [
        "* Veamos qué sucede si en el ejemplo anterior modificamos el tamaño de paso a valores mayores."
      ]
    },
    {
      "cell_type": "code",
      "metadata": {
        "id": "wTOBNxKfQJ-E"
      },
      "source": [
        "import matplotlib.pyplot as mplot\n",
        "import numpy as np\n",
        "\n",
        "x = np.arange(-2, 2, 1) # tamaño de paso 1\n",
        "y = -x**2\n",
        "\n",
        "mplot.plot(x, y)\n",
        "mplot.show"
      ],
      "execution_count": null,
      "outputs": []
    },
    {
      "cell_type": "code",
      "metadata": {
        "id": "2w0pjNY9QooL"
      },
      "source": [
        "import matplotlib.pyplot as mplot\n",
        "import numpy as np\n",
        "\n",
        "x = np.arange(-2, 2, 0.5) # tamaño de paso 0.5\n",
        "y = -x**2\n",
        "\n",
        "mplot.plot(x, y)\n",
        "mplot.show"
      ],
      "execution_count": null,
      "outputs": []
    },
    {
      "cell_type": "markdown",
      "metadata": {
        "id": "XxhATg5nL23W"
      },
      "source": [
        "**Ejercicio 2.** Modifique el tamaño de paso en las gráficas de las funciones del Ejercicio 1 según se indica."
      ]
    },
    {
      "cell_type": "code",
      "metadata": {
        "id": "AQGy9JiyMDca"
      },
      "source": [
        "# Tamaño de paso 0.5"
      ],
      "execution_count": null,
      "outputs": []
    },
    {
      "cell_type": "code",
      "metadata": {
        "id": "4wfzm3NgMK4Y"
      },
      "source": [
        "# Tamaño de paso 0.75"
      ],
      "execution_count": null,
      "outputs": []
    },
    {
      "cell_type": "markdown",
      "metadata": {
        "id": "cx8dMIGNOII6"
      },
      "source": [
        "**Nota:** Si bien para utilizar en Python funciones como seno, coseno o número como $\\pi$, $e$, etc., debemos primero importar el módulo `math`, para graficarlas con `NumPy` debemos recurrir a tales funciones desde este módulo, el cual también las tiene integradas."
      ]
    },
    {
      "cell_type": "markdown",
      "metadata": {
        "id": "mhC3soXmTjzs"
      },
      "source": [
        "Función $y=sin(x)$:"
      ]
    },
    {
      "cell_type": "code",
      "metadata": {
        "id": "haUkEVBLN5oJ"
      },
      "source": [
        "import matplotlib.pyplot as mplot\n",
        "import numpy as np\n",
        "\n",
        "x = np.arange(-2*np.pi, 2*np.pi, 0.01)\n",
        "y = np.sin(x)\n",
        "\n",
        "mplot.plot(x, y)\n",
        "mplot.show"
      ],
      "execution_count": null,
      "outputs": []
    },
    {
      "cell_type": "markdown",
      "metadata": {
        "id": "ixjwJIXqUFwG"
      },
      "source": [
        "Función $y=\\sqrt{x}$:"
      ]
    },
    {
      "cell_type": "code",
      "metadata": {
        "id": "TedbbweNTy2t"
      },
      "source": [
        "import matplotlib.pyplot as mplot\n",
        "import numpy as np\n",
        "\n",
        "x = np.arange(0, 2, 0.01)\n",
        "y = np.sqrt(x)\n",
        "\n",
        "mplot.plot(x, y)\n",
        "mplot.show"
      ],
      "execution_count": null,
      "outputs": []
    },
    {
      "cell_type": "markdown",
      "metadata": {
        "id": "LJi1ghojUNZL"
      },
      "source": [
        "**Observación:** Como es sabido, el dominio de la función $y=\\sqrt{x}$ es el conjunto de los reales positivos unión el cero, $[0,\\infty)$. Así que una pregunta natural es ¿Qué sucede si incluimos valores negativos en el rango de valores de nuestra variable $x$? Es decir, si escribimos `x = np.arange(0, 2, 0.01)`. Veamos:"
      ]
    },
    {
      "cell_type": "code",
      "metadata": {
        "id": "AHlKORLHVORW"
      },
      "source": [
        "import matplotlib.pyplot as mplot\n",
        "import numpy as np\n",
        "\n",
        "x = np.arange(-2, 2, 0.01) # el intervalo [-2,0) no pertenece al dominio de la función y.\n",
        "y = np.sqrt(x)\n",
        "\n",
        "mplot.plot(x, y)\n",
        "mplot.show"
      ],
      "execution_count": null,
      "outputs": []
    },
    {
      "cell_type": "markdown",
      "metadata": {
        "id": "7sFClMKnMXUp"
      },
      "source": [
        "**Ejercicio 3.** Grafique la función $ y=1/x $ fijando el rango de valores para la variable independiente x como el intervalo [-1,1) y escriba una descripción de la gráfica obtenida."
      ]
    },
    {
      "cell_type": "code",
      "metadata": {
        "id": "LNaoVsS0Mtnc"
      },
      "source": [
        "# Función y = 1/x:"
      ],
      "execution_count": null,
      "outputs": []
    },
    {
      "cell_type": "markdown",
      "metadata": {
        "id": "AWZrHXKfM_z_"
      },
      "source": [
        "**Ejercicio 4.** Grafique la función $ y=\\sqrt{x} $ fijando el rango de valores para la variable independiente x como el intervalo [-2,2) y escriba una descripción de la gráfica obtenida."
      ]
    },
    {
      "cell_type": "code",
      "metadata": {
        "id": "iAf6PkxENLsd"
      },
      "source": [
        "# Función y = sqrt(x):"
      ],
      "execution_count": null,
      "outputs": []
    },
    {
      "cell_type": "markdown",
      "metadata": {
        "id": "xwImqt3rW0Ml"
      },
      "source": [
        "Tenemos opción de graficar diferentes funciones en un mismo plano. Para esto, básicamente, solo debemos diferenciar el nombre de las funciones, ya que el algoritmo para generarlas e imprimirlas es análogo a lo anteriormente visto para el caso de una sola función."
      ]
    },
    {
      "cell_type": "code",
      "metadata": {
        "id": "pYiVgca2XiKe"
      },
      "source": [
        "import matplotlib.pyplot as mplot\n",
        "import numpy as np\n",
        "\n",
        "x = np.arange(-2*np.pi, 2*np.pi, 0.01)\n",
        "\n",
        "y1 = x # función 1\n",
        "y2 = -x**2 # función 2\n",
        "y3 = np.sin(x) # función 3\n",
        "\n",
        "mplot.plot(x, y1)\n",
        "mplot.plot(x, y2)\n",
        "mplot.plot(x, y3)\n",
        "mplot.show"
      ],
      "execution_count": null,
      "outputs": []
    },
    {
      "cell_type": "markdown",
      "metadata": {
        "id": "NNovdwjBbZoy"
      },
      "source": [
        "Como podemos observar en la gráfica anterior, dos de ellas no se logran apreciar debido a que la restante abarca tiene como función un rango mayor en el intervalo en el cual toma valores la variable `x`. Una manera de arreglar este datelle es de la siguiente manera:"
      ]
    },
    {
      "cell_type": "code",
      "metadata": {
        "id": "9R8TdN29gnAp"
      },
      "source": [
        "import matplotlib.pyplot as mplot\n",
        "import numpy as np\n",
        "\n",
        "x = np.arange(-2*np.pi, 2*np.pi, 0.01) # aquí definimos el rango de nuestra 'primera' variable independiente.\n",
        "x2 = np.arange(-2.5, 2.5, 0.01) # aquí definimos el rango de nuestra 'segunda' variable independiente.\n",
        "\n",
        "y1 = x # esta función depende de la variable x.\n",
        "y2 = -x2**2 # esta función depende de la variable x2.\n",
        "y3 = np.sin(x) # esta función depende de la variable x.\n",
        "\n",
        "mplot.plot(x, y1)\n",
        "mplot.plot(x2, y2)\n",
        "mplot.plot(x, y3)\n",
        "mplot.show"
      ],
      "execution_count": null,
      "outputs": []
    },
    {
      "cell_type": "markdown",
      "metadata": {
        "id": "bLwrHSHwhOJX"
      },
      "source": [
        "En conclusión, podemos fijar variables independientes con distintos rangos de valores y definir funciones con ellas que podemos imprimir en un mismo plano. A continuación, otro ejemplo."
      ]
    },
    {
      "cell_type": "code",
      "metadata": {
        "id": "FODCROm4jLuR"
      },
      "source": [
        "import matplotlib.pyplot as mplot\n",
        "import numpy as np\n",
        "\n",
        "x1 = np.arange(-1.5, 1.5, 0.01)\n",
        "x2 = np.arange(0, 6, 0.01)\n",
        "x3 = np.arange(-2*np.pi, 2*np.pi, 0.01)\n",
        "\n",
        "y1 = x1**3\n",
        "y2 = np.sqrt(x2)\n",
        "y3 = np.cos(x3)\n",
        "\n",
        "mplot.plot(x1, y1)\n",
        "mplot.plot(x2, y2)\n",
        "mplot.plot(x3, y3)\n",
        "mplot.show"
      ],
      "execution_count": null,
      "outputs": []
    },
    {
      "cell_type": "markdown",
      "metadata": {
        "id": "jOfWmbziNkue"
      },
      "source": [
        "**Ejercicio 5.** Escoja 3 funciones y grafíquelas en un mismo plano de tal manera que no sobresalga una más que otra. Para esto, ajuste los rangos de las variables independientes."
      ]
    },
    {
      "cell_type": "code",
      "metadata": {
        "id": "KP8D5MPfN5Mp"
      },
      "source": [
        "# Tres funciones:"
      ],
      "execution_count": null,
      "outputs": []
    },
    {
      "cell_type": "markdown",
      "metadata": {
        "id": "LNs4DJ9Pk8oX"
      },
      "source": [
        "Un inconveniente al imprimir solamente las gráficas de distintas funciones en un solo plano es distinguirlas. Una manera de solucionar esto es agregar una leyenda al plano indicando las funciones graficadas."
      ]
    },
    {
      "cell_type": "code",
      "metadata": {
        "id": "Edfu0JiYnUX4"
      },
      "source": [
        "import matplotlib.pyplot as mplot\n",
        "import numpy as np\n",
        "\n",
        "x1 = np.arange(-1.5, 1.5, 0.01)\n",
        "x2 = np.arange(0, 6, 0.01)\n",
        "x3 = np.arange(-2*np.pi, 2*np.pi, 0.01)\n",
        "\n",
        "y1 = x1**3\n",
        "y2 = np.sqrt(x2)\n",
        "y3 = np.cos(x3)\n",
        "\n",
        "mplot.plot(x1, y1, label='$y1 = x^3$') # con la instrucción 'label' fijamos el nombre que asignaremos a nuestra función.\n",
        "mplot.plot(x2, y2, label='$y2 = \\sqrt{x}$')\n",
        "mplot.plot(x3, y3, label='$y3 = cos(x)$')\n",
        "mplot.legend()\n",
        "mplot.show"
      ],
      "execution_count": null,
      "outputs": []
    },
    {
      "cell_type": "markdown",
      "metadata": {
        "id": "sWfyX0YJONE7"
      },
      "source": [
        "**Ejercicio 6.** Agregue una leyenda al plano para distinguir las funciones graficadas en el Ejercicio 5."
      ]
    },
    {
      "cell_type": "code",
      "metadata": {
        "id": "_ekWy5l-OoFt"
      },
      "source": [
        "# Tres funciones con leyenda:"
      ],
      "execution_count": null,
      "outputs": []
    },
    {
      "cell_type": "markdown",
      "metadata": {
        "id": "bvPNwkXg6L9o"
      },
      "source": [
        "Adicionalmente a las leyendas, `Matplotlib` permite imprimir texto para nombrar a los ejes coordenados y al plano en donde graficamos. También tiene la opción de mostrar el plano con una cuadrícula. Ya que `Matplotlib` está diseñado para realizar un análisis gráfico de datos, estas opciones suelen ser de gran utilidad en el ámbito estadístico.\n"
      ]
    },
    {
      "cell_type": "code",
      "metadata": {
        "id": "qN_JoFuv6MZj"
      },
      "source": [
        "# Importar módulos\n",
        "import numpy as np\n",
        "import matplotlib.pyplot as plt\n",
        "\n",
        "# Definir rango \n",
        "x = np.arange(-3, 3, 0.01) # el dominio es de -3 a 3 con una precisión de 0.01\n",
        "\n",
        "# Definir funciones\n",
        "f_1 = 10*np.sqrt(x + 3) \n",
        "f_2 = 4 - 2*x\n",
        "f_3 = 5*x**2\n",
        "\n",
        "# Graficar\n",
        "plt.plot(x, f_1) # graficar x contra f_1\n",
        "plt.plot(x, f_2) # graficar x contra f_2\n",
        "plt.plot(x, f_3) # graficar x contra f_3\n",
        "\n",
        "# Atributos de la gráfica\n",
        "plt.xlabel('Eje x') # opcional: poner etiquetas en los ejes\n",
        "plt.ylabel('Eje y') \n",
        "\n",
        "plt.title('$f_{1}, f_{2},  f_{3}$') # opcional: poner el título de la gráfica\n",
        "plt.legend(['$f_{1}= 10 \\sqrt{x+3}$', '$f_{2}= 4 - 2x$' , '$f_{3}= 5 x ^{2}$']) # Opcional: poner recuadro indicando que línea cada funcion\n",
        "\n",
        "plt.grid() # opcional: cuadrícula\n",
        "plt.show() "
      ],
      "execution_count": null,
      "outputs": []
    },
    {
      "cell_type": "markdown",
      "metadata": {
        "id": "ZvnYle-BAE4x"
      },
      "source": [
        "## Gráficas de Funciones Implícitas"
      ]
    },
    {
      "cell_type": "markdown",
      "metadata": {
        "id": "c-jLH_IXC48n"
      },
      "source": [
        "En principio, `Matplotlip` no admite 'instrumentos' para relizar gráficas de funciones expresadas de manera implícita. Aún así, con algunas herramientas que esta librería nos proveé podemos graficar tales funciones de manera indirecta."
      ]
    },
    {
      "cell_type": "markdown",
      "metadata": {
        "id": "lW9ySuqhHIBk"
      },
      "source": [
        "Función implícita **$x^2 + \\big( \\tfrac{5}{4}y - \\sqrt{|x|}\\big)^2 - 1 = 0$:**"
      ]
    },
    {
      "cell_type": "code",
      "metadata": {
        "id": "l-C_gepIGKye"
      },
      "source": [
        "import matplotlib.pyplot as mplot\n",
        "import numpy as np\n",
        "\n",
        "x = np.arange(-2, 2, 0.01)\n",
        "y = np.arange(-2, 2, 0.01) # en este caso, fijaremos a y como una variable e indicaremos el rango de sus valores.\n",
        "\n",
        "X, Y = np.meshgrid(x, y) # con esto, básicamente indicamos que se marquen los puntos que definirán nuestra función implícita.\n",
        "\n",
        "mplot.contour(X**2 + (5*Y/4 - np.sqrt(np.abs(X)))**2 - 1, [0])\n",
        "mplot.show()"
      ],
      "execution_count": null,
      "outputs": []
    },
    {
      "cell_type": "markdown",
      "metadata": {
        "id": "PH5QUYVFIASc"
      },
      "source": [
        "Función implícita **$x^2 + y^2 - 1 = 0$:**"
      ]
    },
    {
      "cell_type": "code",
      "metadata": {
        "id": "XDa19ha5IMIZ"
      },
      "source": [
        "import matplotlib.pyplot as mplot\n",
        "import numpy as np\n",
        "\n",
        "x = np.arange(-2, 2, 0.01)\n",
        "y = np.arange(-2, 2, 0.01)\n",
        "\n",
        "X, Y = np.meshgrid(x, y)\n",
        "\n",
        "mplot.contour(X**2 + Y**2 - 1, [0])\n",
        "mplot.show()"
      ],
      "execution_count": null,
      "outputs": []
    },
    {
      "cell_type": "markdown",
      "metadata": {
        "id": "eOMl3alDKNa1"
      },
      "source": [
        "Función implícita **$x^2 - y^2 = 0$:**"
      ]
    },
    {
      "cell_type": "code",
      "metadata": {
        "id": "UEfK6zRNKAmF"
      },
      "source": [
        "import matplotlib.pyplot as mplot\n",
        "import numpy as np\n",
        "\n",
        "x = np.arange(-2, 2, 0.01)\n",
        "y = np.arange(-2, 2, 0.01)\n",
        "\n",
        "X, Y = np.meshgrid(x, y)\n",
        "\n",
        "mplot.contour(X**2 - Y**2, [0])\n",
        "mplot.show()"
      ],
      "execution_count": null,
      "outputs": []
    },
    {
      "cell_type": "markdown",
      "metadata": {
        "id": "Wuz1adSnKxvG"
      },
      "source": [
        "Función implícita **$xy = 1$:**"
      ]
    },
    {
      "cell_type": "code",
      "metadata": {
        "id": "vQEne5NyKcqP"
      },
      "source": [
        "import matplotlib.pyplot as mplot\n",
        "import numpy as np\n",
        "\n",
        "x = np.arange(-3, 3, 0.01)\n",
        "y = np.arange(-3, 3, 0.01)\n",
        "\n",
        "X, Y = np.meshgrid(x, y)\n",
        "\n",
        "mplot.contour(X*Y - 1, [0])\n",
        "mplot.show()"
      ],
      "execution_count": null,
      "outputs": []
    },
    {
      "cell_type": "markdown",
      "metadata": {
        "id": "9BuBwHlnK8hK"
      },
      "source": [
        "Función implícita **$xy = 0$:**"
      ]
    },
    {
      "cell_type": "code",
      "metadata": {
        "id": "5MrEn7c_LAL5"
      },
      "source": [
        "import matplotlib.pyplot as mplot\n",
        "import numpy as np\n",
        "\n",
        "x = np.arange(-3, 3, 0.01)\n",
        "y = np.arange(-3, 3, 0.01)\n",
        "\n",
        "X, Y = np.meshgrid(x, y)\n",
        "\n",
        "mplot.contour(X*Y, [0])\n",
        "mplot.show()"
      ],
      "execution_count": null,
      "outputs": []
    },
    {
      "cell_type": "markdown",
      "metadata": {
        "id": "RGPAowSOOweo"
      },
      "source": [
        "**Ejercicio 1.** Escoja 3 funciones implícitas y grafíquelas."
      ]
    },
    {
      "cell_type": "code",
      "metadata": {
        "id": "io3XVmNiO4qr"
      },
      "source": [
        "# Tres funciones implícitas:"
      ],
      "execution_count": null,
      "outputs": []
    }
  ]
}