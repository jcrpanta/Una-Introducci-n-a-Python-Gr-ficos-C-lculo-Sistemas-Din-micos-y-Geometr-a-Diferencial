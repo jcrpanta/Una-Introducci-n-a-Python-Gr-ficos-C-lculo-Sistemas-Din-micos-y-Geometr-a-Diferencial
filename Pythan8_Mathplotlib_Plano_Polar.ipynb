{
  "nbformat": 4,
  "nbformat_minor": 0,
  "metadata": {
    "colab": {
      "name": "Pythan8_Mathplotlib_Plano_Polar.ipynb",
      "provenance": [],
      "collapsed_sections": [],
      "include_colab_link": true
    },
    "kernelspec": {
      "name": "python3",
      "display_name": "Python 3"
    }
  },
  "cells": [
    {
      "cell_type": "markdown",
      "metadata": {
        "id": "view-in-github",
        "colab_type": "text"
      },
      "source": [
        "<a href=\"https://colab.research.google.com/github/jcrpanta/Una-Introducci-n-a-Python-Gr-ficos-C-lculo-Sistemas-Din-micos-y-Geometr-a-Diferencial/blob/main/Pythan8_Mathplotlib_Plano_Polar.ipynb\" target=\"_parent\"><img src=\"https://colab.research.google.com/assets/colab-badge.svg\" alt=\"Open In Colab\"/></a>"
      ]
    },
    {
      "cell_type": "markdown",
      "metadata": {
        "id": "2Zg_3lXznt6-"
      },
      "source": [
        "# Coordenadas Polares"
      ]
    },
    {
      "cell_type": "markdown",
      "metadata": {
        "id": "kuDkxobyKERy"
      },
      "source": [
        "A continuación se presenta una manera de trabajar con coordenadas polares en Python. Básicamente lo que se hará es mostrar cómo graficar emulando estas coordenadas en Matplotlib y posteriormente cómo graficar de manera paramétrica."
      ]
    },
    {
      "cell_type": "markdown",
      "metadata": {
        "id": "AzJJ3KX5MV0i"
      },
      "source": [
        "## Funciones Seno y Coseno"
      ]
    },
    {
      "cell_type": "markdown",
      "metadata": {
        "id": "WVZrdzCCMcbA"
      },
      "source": [
        "Primero recordemos las gráficas de las funciones seno y coseno, así como algunas relaciones entre ellas. Para esto, como siempre, hay que importar los módulos necesarios para graficar. En este caso: `Matplotlib` y `NumPy`. (Para más detalles sobre cómo utilizar este módulo ver el notebook [`3_2_Matplotlib_2D.ipynb`](https://github.com/HaydeePeruyero/Geometria-Analitica-1/blob/master/3_2_Matplotlib_2D.ipynb))"
      ]
    },
    {
      "cell_type": "code",
      "metadata": {
        "id": "E_9FhUPV-Qs4"
      },
      "source": [
        "import matplotlib.pyplot as mplt\n",
        "import numpy as np\n",
        "\n",
        "x = np.arange(0, 2*np.pi, 0.01) \n",
        "\n",
        "y1 = np.sin(x)\n",
        "y2 = np.cos(x)\n",
        "\n",
        "mplt.plot(x, y1, label='$y1 = sin(x)$')\n",
        "mplt.plot(x, y2, label='$y2 = cos(x)$')\n",
        "mplt.legend()\n",
        "mplt.show()"
      ],
      "execution_count": null,
      "outputs": []
    },
    {
      "cell_type": "markdown",
      "metadata": {
        "id": "jsSGEe9QORVa"
      },
      "source": [
        "Como podemos observar en el plano anterior las gráficas de las funciones seno y coseno son 'muy' parecidas. De hecho, parecen solamente estar 'desfasadas'. En efecto, como veremos a continuación, podemos obtener la gráfica de una ellas en términos de la otra 'ajustando' apropiadamente el respectivo argumento. En otras palabras, este ajuste rectifica el desfase entre las gráficas."
      ]
    },
    {
      "cell_type": "markdown",
      "metadata": {
        "id": "P3a0IRkNYQ23"
      },
      "source": [
        "Como primer caso veamos que **$\\hspace{2pt}\\cos\\big(x - \\frac{\\pi}{2}\\big) = \\sin(x)$:**"
      ]
    },
    {
      "cell_type": "code",
      "metadata": {
        "id": "qDGUM1cZ3M52"
      },
      "source": [
        "import matplotlib.pyplot as mplt\n",
        "import numpy as np\n",
        "\n",
        "y1 = np.sin(x)\n",
        "y2 = np.cos(x - np.pi/2)\n",
        "\n",
        "mplt.plot(x, y1, label='$y1 = sin(x)$', linewidth = 3) # con linewidth ajustamos el grosor de la gráfica\n",
        "mplt.plot(x, y2, label='$y2 = cos(x-\\frac{\\pi}{2})$', linestyle = '--', linewidth=3) # con linestyle ajustamos el estilo de trazo de la gráfica\n",
        "mplt.legend()\n",
        "mplt.show()"
      ],
      "execution_count": null,
      "outputs": []
    },
    {
      "cell_type": "markdown",
      "metadata": {
        "id": "-Mgo3wv2gBol"
      },
      "source": [
        "Ahora, veamos que **$\\hspace{2pt}\\sin\\big(x + \\frac{\\pi}{2}\\big) = \\cos(x)$:**"
      ]
    },
    {
      "cell_type": "code",
      "metadata": {
        "id": "lylFcm6N9vaR"
      },
      "source": [
        "import matplotlib.pyplot as mplt\n",
        "import numpy as np\n",
        "\n",
        "x = np.arange(0, 2*np.pi, 0.01) \n",
        "\n",
        "y1 = np.sin(x + np.pi/2)\n",
        "y2 = np.cos(x)\n",
        "\n",
        "mplt.plot(x, y1, label='$y1 = sin(x + \\frac{\\pi}{2})$', linewidth=3)\n",
        "mplt.plot(x, y2, label='$y2 = cos(x)$', linestyle = '--', linewidth=3)\n",
        "mplt.legend()\n",
        "mplt.show()"
      ],
      "execution_count": null,
      "outputs": []
    },
    {
      "cell_type": "markdown",
      "metadata": {
        "id": "m70aZdXihUaP"
      },
      "source": [
        "# Coordenadas Polares"
      ]
    },
    {
      "cell_type": "markdown",
      "metadata": {
        "id": "1dTUAkhymGOE"
      },
      "source": [
        "Las coordenadas polares o sistemas polares son un sistema de coordenadas 2-dimensionales en el que cada punto del plano se determina por una distancia y un ángulo, denotados usualmente por $r$ y $\\theta$, respectivamente. Las distancias y los ángulos son con respecto a un punto llamado origen y un eje horizontal llamado eje polar."
      ]
    },
    {
      "cell_type": "markdown",
      "metadata": {
        "id": "tIBmbNltEjlu"
      },
      "source": [
        "## Conversión entre Coordenadas Polares y Cartesianas"
      ]
    },
    {
      "cell_type": "markdown",
      "metadata": {
        "id": "qLJMfabTEpBN"
      },
      "source": [
        "Cuando se tienen dos sistemas coordenados para un mismo espacio resulta natural el preguntarse si existe una manera de 'pasar' de una a otra. Para el caso del plano $\\mathbb{R}^{2}$, es sabido que las fórmulas para obtener las coordenadas cartesianas $(x,y)$ de un punto $(r_{0},\\theta_{0})$ en coordenadas polares son:\n",
        "    \\begin{align*}\n",
        "        x &= r_{0}\\cos(\\theta_{0}), \\\\\n",
        "        y &= r_{0}\\sin(\\theta_{0}).\n",
        "    \\end{align*}\n",
        "    \n",
        "Recíprocamente, las fórmulas para obtener las coordenadas polares $(r,\\theta)$ de un punto $(x_{0},y_{0})$ en coordenadas cartesianas son:\n",
        "    \\begin{align*}\n",
        "        r &= \\sqrt{x_{0}^2+y_{0}^2}, \\\\\n",
        "        \\theta &= \\arctan{\\frac{y_{0}}{x_{0}}}.\n",
        "    \\end{align*}\n",
        "\n",
        "Utilizando el módulo de `SymPy` podemos construir una función en Python que nos ayude a hacer estas conversiones:"
      ]
    },
    {
      "cell_type": "code",
      "metadata": {
        "id": "UkaiKoZDIg4_"
      },
      "source": [
        "#import numpy as np\n",
        "import sympy as sym\n",
        "\n",
        "def polar_to_cartesian(r, theta): # 'def' nos permite 'crear' nuestras propias funciones en Python.\n",
        "   xx = r * sym.cos(theta)\n",
        "   yy = r * sym.sin(theta)\n",
        "   return(xx, yy)\n",
        "\n",
        "def cartesian_to_polar(x, y): \n",
        "   rr = sym.sqrt(x**2 + y**2)\n",
        "   theta = sym.atan2(y, x)\n",
        "   return(rr, theta)"
      ],
      "execution_count": null,
      "outputs": []
    },
    {
      "cell_type": "markdown",
      "metadata": {
        "id": "O1NRfqJSJh_-"
      },
      "source": [
        "**Nota:** Estas funciones se pueden construir utilizando solamente el módulo de `NumPy`. Sin embargo, se han escrito así para cuestiones de ilustraciones por el problema de redondeo que se presenta al utilizar solamente `NumPy`."
      ]
    },
    {
      "cell_type": "markdown",
      "metadata": {
        "id": "AwBe5DFvPjxt"
      },
      "source": [
        "\n",
        "Veamos ahora algunos ejemplos de cómo utilizar estas funciones."
      ]
    },
    {
      "cell_type": "code",
      "metadata": {
        "id": "VDRLx4RNKAiI"
      },
      "source": [
        "# De polares a cartesianas:\n",
        "\n",
        "# print(polar_to_cartesian(1, 0))\n",
        "# print(polar_to_cartesian(1, sym.pi/4))\n",
        "# print(polar_to_cartesian(1, sym.pi))\n",
        "# print(polar_to_cartesian(1, 3*sym.pi/2))\n",
        "# print(polar_to_cartesian(1, 2*sym.pi))"
      ],
      "execution_count": null,
      "outputs": []
    },
    {
      "cell_type": "code",
      "metadata": {
        "id": "WiOivXWlOJwb"
      },
      "source": [
        "# De cartesianas a polares:\n",
        "\n",
        "#print(cartesian_to_polar(1, 0))\n",
        "#print(cartesian_to_polar(0, 1))\n",
        "#print(cartesian_to_polar(-1, 0))\n",
        "#print(cartesian_to_polar(0, -1))"
      ],
      "execution_count": null,
      "outputs": []
    },
    {
      "cell_type": "markdown",
      "metadata": {
        "id": "V3PA6mM3jYdB"
      },
      "source": [
        "## Plano Polar"
      ]
    },
    {
      "cell_type": "markdown",
      "metadata": {
        "id": "rAoNsGT_nAev"
      },
      "source": [
        "Un Plano Polar es un plano que contiene como referencias ángulos y magnitudes, lo cual nos permite representar un punto en 2-dimensiones conociendo sus coordenadas polares. Este plano consiste de circunferencias concéntricas a un origen y rectas concurrentes a este con distintos ángulos de inclinación.\n",
        "\n",
        "En `Matplotlib` podemos trabajar con planos polares utilizando la instrucción (instancia):"
      ]
    },
    {
      "cell_type": "code",
      "metadata": {
        "id": "Bms-omhMLGKX"
      },
      "source": [
        "import matplotlib.pyplot as mplt\n",
        "import numpy as np\n",
        "\n",
        "ax = mplt.subplot(111, projection='polar')"
      ],
      "execution_count": null,
      "outputs": []
    },
    {
      "cell_type": "markdown",
      "metadata": {
        "id": "T60lvNNyBtbp"
      },
      "source": [
        "Análogamente al caso cartesiano, podemos definir relaciones funcionales entre las 'variables polares'. Es común pensar, por ejemplo, a la variable $\\theta$ como función de $r$, es decir, $\\hspace{2pt}\\theta=\\theta(r)$. Lo que nos permite plasmar ciertas gráficas (muy estéticas) en el plano que no se pueden obtener de manera inmediata utilizando coordenadas cartesianas."
      ]
    },
    {
      "cell_type": "markdown",
      "metadata": {
        "id": "tSi6ymeCD7-z"
      },
      "source": [
        "Una de las funciones básicas a tener siempre en mente es la función indentidad: $\\hspace{2pt}\\theta = r$:"
      ]
    },
    {
      "cell_type": "code",
      "metadata": {
        "id": "WWGcLInnQv_x"
      },
      "source": [
        "import matplotlib.pyplot as mplt\n",
        "import numpy as np\n",
        "\n",
        "ax = mplt.subplot(111, projection='polar')\n",
        "\n",
        "r1 = np.arange(0, 2*np.pi, 0.01)\n",
        "theta1 = r1\n",
        "\n",
        "mplt.polar(r1, theta1)\n",
        "mplt.show()"
      ],
      "execution_count": null,
      "outputs": []
    },
    {
      "cell_type": "markdown",
      "metadata": {
        "id": "6WdA-CXJFRCv"
      },
      "source": [
        "Ahora, una función cuadrática en el radio $\\hspace{2pt}\\theta = r^2$. A partir de este ejemplo debemos tomar en cuenta que la variable $r$ puede tomar valores negativos:"
      ]
    },
    {
      "cell_type": "code",
      "metadata": {
        "id": "s-qoqeGOFeuV"
      },
      "source": [
        "import matplotlib.pyplot as mplt\n",
        "import numpy as np\n",
        "\n",
        "ax = mplt.subplot(111, projection='polar')\n",
        "\n",
        "r2 = np.arange(0, 3*np.pi, 0.01)\n",
        "theta2 = r2**2\n",
        "\n",
        "mplt.polar(r2, theta2)\n",
        "mplt.show()"
      ],
      "execution_count": null,
      "outputs": []
    },
    {
      "cell_type": "markdown",
      "metadata": {
        "id": "dq-tZaauHZR2"
      },
      "source": [
        "Al parecer existe cierta similitud entre las gráficas anteriores aunque éstas provengan de dos funciones distintas.\n",
        "\n",
        "**Ejercicio 1:** Describa qué figura cree que dibuje la gráfica de cada una de las funciones anteriores conforme aumentamos la magnitud de $r$. ¿Se parecen?\n",
        "\n",
        "**Ejercicio 2:** Grafique cada una de las funciones anteriores multiplicadas por $-1$, es decir, para la primera función grafique $\\theta(r)=-r$, etc. Describa la figura que dibuja cada una de estas gráficas conforme aumenta la magnitud de $r$ y compárelas con las respectivas gráficas 'originales'. ¿Qué observa?"
      ]
    },
    {
      "cell_type": "markdown",
      "metadata": {
        "id": "-rGW5ic6TMde"
      },
      "source": [
        "Como mencionamos anteriormente, la variable radial $r$ admite valores negativos. Veamos qué sucede con cada una de las gráficas anteriores si asignamos tales valores a $r$."
      ]
    },
    {
      "cell_type": "markdown",
      "metadata": {
        "id": "IKneVqK9Tk3U"
      },
      "source": [
        "$\\theta = r$:"
      ]
    },
    {
      "cell_type": "code",
      "metadata": {
        "id": "EPJiRUoCToEl"
      },
      "source": [
        "import matplotlib.pyplot as mplt\n",
        "import numpy as np\n",
        "\n",
        "ax = mplt.subplot(111, projection='polar')\n",
        "\n",
        "r11 = np.arange(-2*np.pi, 2*np.pi, 0.01)\n",
        "theta11 = r11\n",
        "\n",
        "mplt.polar(r11, theta11)\n",
        "mplt.show()"
      ],
      "execution_count": null,
      "outputs": []
    },
    {
      "cell_type": "markdown",
      "metadata": {
        "id": "XPHa8ht3TsRW"
      },
      "source": [
        "$\\theta = r^2$:"
      ]
    },
    {
      "cell_type": "code",
      "metadata": {
        "id": "wFpIW7KHTwM7"
      },
      "source": [
        "import matplotlib.pyplot as mplt\n",
        "import numpy as np\n",
        "\n",
        "ax = mplt.subplot(111, projection='polar')\n",
        "\n",
        "r21 = np.arange(-3*np.pi, 3*np.pi, 0.01)\n",
        "theta21 = r21**2\n",
        "\n",
        "mplt.polar(r21, theta21)\n",
        "mplt.show()"
      ],
      "execution_count": null,
      "outputs": []
    },
    {
      "cell_type": "markdown",
      "metadata": {
        "id": "aNBjAEJjY0_L"
      },
      "source": [
        "## Más Gráficas"
      ]
    },
    {
      "cell_type": "markdown",
      "metadata": {
        "id": "g3kymQqZY64m"
      },
      "source": [
        "A continuación, se presentan algunos ejemplos de funciones que generan estéticos gráficos en el plano polar. Para las gráficas anteriores, se tomó a la variable angular $\\theta$ como función de la variable radial $r$. Pero también es posible intercambiar estos roles."
      ]
    },
    {
      "cell_type": "markdown",
      "metadata": {
        "id": "FdrzPRSTZJs7"
      },
      "source": [
        "$r=\\cos(n\\theta)$, $n=2,3$:"
      ]
    },
    {
      "cell_type": "code",
      "metadata": {
        "id": "NB5408vGZh_f"
      },
      "source": [
        "import matplotlib.pyplot as mplt\n",
        "import numpy as np\n",
        "\n",
        "ax = mplt.subplot(111, projection='polar')\n",
        "\n",
        "theta3 = np.linspace(0, 2*np.pi, 10000) # linspace divide el intervalo (0, 2pi) en 10000 partes iguales\n",
        "r3 = np.cos(2*theta3)\n",
        "r4 = np.cos(3*theta3)\n",
        "\n",
        "mplt.polar(theta3, r3, label='$r=\\cos(2\\\\theta)$')\n",
        "mplt.polar(theta3, r4, label='$r=\\cos(3\\\\theta)$')\n",
        "ax.set_rticks([1, 2]) # con esta instrucción ajusto el número de círculos y el radio correspondiente a visulizar en el plano polar\n",
        "ax.legend(loc='upper center', bbox_to_anchor=(0.5, -0.1)) # con esta instrucción modifico el lugar a imprimir la leyenda\n",
        "mplt.show()"
      ],
      "execution_count": null,
      "outputs": []
    },
    {
      "cell_type": "markdown",
      "metadata": {
        "id": "GNgkwkHu5Cdm"
      },
      "source": [
        "**Ejercicio 3:** Deduzca qué figura dibujará la gráfica de la función $\\hspace{2pt}r=cos(n\\theta)$, para $\\hspace{2pt}n \\in \\mathbb{N}$."
      ]
    },
    {
      "cell_type": "markdown",
      "metadata": {
        "id": "kp_jePIj5rYi"
      },
      "source": [
        "$r=\\sin(n\\theta)$, $n=2,3$:"
      ]
    },
    {
      "cell_type": "code",
      "metadata": {
        "id": "rbsGVaE35msc"
      },
      "source": [
        "import matplotlib.pyplot as mplt\n",
        "import numpy as np\n",
        "\n",
        "ax = mplt.subplot(111, projection='polar')\n",
        "\n",
        "theta5 = np.linspace(0, 2*np.pi, 10000) \n",
        "r5 = np.sin(2*theta5)\n",
        "r6 = np.sin(3*theta5)\n",
        "\n",
        "mplt.polar(theta5, r5, label='$r=\\sin(2\\\\theta)$')\n",
        "mplt.polar(theta5, r6, label='$r=\\sin(3\\\\theta)$')\n",
        "ax.set_rticks([1, 2]) \n",
        "ax.legend(loc='upper center', bbox_to_anchor=(0.5, -0.1)) \n",
        "mplt.show()"
      ],
      "execution_count": null,
      "outputs": []
    },
    {
      "cell_type": "markdown",
      "metadata": {
        "id": "gl8pmwgm9S9B"
      },
      "source": [
        "**Ejercicio 3:** Deduzca qué figura dibujará la gráfica de la función $\\hspace{2pt}r=sin(n\\theta)$, para $\\hspace{2pt}n \\in \\mathbb{N}$."
      ]
    }
  ]
}