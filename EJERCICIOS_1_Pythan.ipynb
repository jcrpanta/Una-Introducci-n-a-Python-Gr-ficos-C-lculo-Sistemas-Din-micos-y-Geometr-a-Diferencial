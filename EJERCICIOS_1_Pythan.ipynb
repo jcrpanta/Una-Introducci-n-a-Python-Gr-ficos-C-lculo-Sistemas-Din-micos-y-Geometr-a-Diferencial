{
  "nbformat": 4,
  "nbformat_minor": 0,
  "metadata": {
    "colab": {
      "name": "EJERCICIOS_1_Pythan.ipynb",
      "provenance": [],
      "collapsed_sections": [],
      "include_colab_link": true
    },
    "kernelspec": {
      "name": "python3",
      "display_name": "Python 3"
    },
    "language_info": {
      "name": "python"
    }
  },
  "cells": [
    {
      "cell_type": "markdown",
      "metadata": {
        "id": "view-in-github",
        "colab_type": "text"
      },
      "source": [
        "<a href=\"https://colab.research.google.com/github/jcrpanta/Una-Introducci-n-a-Python-Gr-ficos-C-lculo-Sistemas-Din-micos-y-Geometr-a-Diferencial/blob/main/EJERCICIOS_1_Pythan.ipynb\" target=\"_parent\"><img src=\"https://colab.research.google.com/assets/colab-badge.svg\" alt=\"Open In Colab\"/></a>"
      ]
    },
    {
      "cell_type": "markdown",
      "metadata": {
        "id": "NzNHmo6qHeZv"
      },
      "source": [
        "(i) **Escriba un comentario en la siguiente celda de código y ejecútela:**"
      ]
    },
    {
      "cell_type": "code",
      "metadata": {
        "id": "sgeT62XKBmEE"
      },
      "source": [
        ""
      ],
      "execution_count": null,
      "outputs": []
    },
    {
      "cell_type": "markdown",
      "metadata": {
        "id": "ioRNFTpYUw4a"
      },
      "source": [
        "¿Qué observa?"
      ]
    },
    {
      "cell_type": "markdown",
      "metadata": {
        "id": "H7g0ZctqHpMv"
      },
      "source": [
        "* Considere la siguiente variable que contiene una cadena de caracteres:"
      ]
    },
    {
      "cell_type": "code",
      "metadata": {
        "id": "v8Q0HHy8IE0t"
      },
      "source": [
        "cadena = 'Ejercicio del curso de Python'"
      ],
      "execution_count": null,
      "outputs": []
    },
    {
      "cell_type": "markdown",
      "metadata": {
        "id": "-dJgHqYQIr5c"
      },
      "source": [
        "(ii) **Imprima utilizando la función `print()` la variable anterior**"
      ]
    },
    {
      "cell_type": "code",
      "metadata": {
        "id": "nvJjN-qrIrJ4"
      },
      "source": [
        "# Utilice esta celda para imprimir\n"
      ],
      "execution_count": null,
      "outputs": []
    },
    {
      "cell_type": "markdown",
      "metadata": {
        "id": "LpY_QX-nLEUu"
      },
      "source": [
        "(iii) **Defina una nueva variable que contenga la siguiente cadena de caracteres:** \\\\\n",
        "\n",
        "`del Departamento de Matemáticas`"
      ]
    },
    {
      "cell_type": "code",
      "metadata": {
        "id": "jHaMxBqvLoAV"
      },
      "source": [
        "# Utilice esta celda para definir la variable\n"
      ],
      "execution_count": null,
      "outputs": []
    },
    {
      "cell_type": "markdown",
      "metadata": {
        "id": "N7KA_8sVM7QO"
      },
      "source": [
        "(iv) **Defina una nueva variable que contenga la siguiente cadena de caracteres:** \\\\\n",
        "\n",
        "`UNISON`"
      ]
    },
    {
      "cell_type": "code",
      "metadata": {
        "id": "w6e3heNtM-Q7"
      },
      "source": [
        "# Utilice esta celda para definir la variable\n"
      ],
      "execution_count": null,
      "outputs": []
    },
    {
      "cell_type": "markdown",
      "metadata": {
        "id": "nF5Bq-vwMDle"
      },
      "source": [
        "(v) **Concatene de manera adecuada las variables necesarias para obtener la siguiente cadena de caracteres:** \\\\\n",
        "\n",
        "`Ejercicio del curso de Python del Departamento de Matemáticas, UNISON.`"
      ]
    },
    {
      "cell_type": "code",
      "metadata": {
        "id": "1Nggl3uLMC0w"
      },
      "source": [
        "# Utilice esta celda para definir la variable\n"
      ],
      "execution_count": null,
      "outputs": []
    },
    {
      "cell_type": "markdown",
      "metadata": {
        "id": "Dr4d6RRXO9et"
      },
      "source": [
        "(vi) **Guarde en una variable la cadena de carecteres obtenida en el punto (v):**"
      ]
    },
    {
      "cell_type": "code",
      "metadata": {
        "id": "Sb3i92FMO88Y"
      },
      "source": [
        "# Utilice esta celda para definir la variable\n"
      ],
      "execution_count": null,
      "outputs": []
    },
    {
      "cell_type": "markdown",
      "metadata": {
        "id": "Zces7QzhQbAW"
      },
      "source": [
        "(vii) **Calcule la longitud de la variable `cadena` y la de los puntos (iii), (iv) y (vi):**"
      ]
    },
    {
      "cell_type": "code",
      "metadata": {
        "id": "3pVb44YlRJk0"
      },
      "source": [
        "# Utilice esta celda para calcular las longitudes\n"
      ],
      "execution_count": null,
      "outputs": []
    },
    {
      "cell_type": "markdown",
      "metadata": {
        "id": "Dr9MKnBBSVu8"
      },
      "source": [
        "(viii) **Con las herramientas vistas en el curso, opere con la variable del punto (vi) para imprimir la siguiente cadena de caracteres:** \\\\\n",
        "\n",
        "`.NOSINU ,sacitámetaM ed otnematrapeD led nohtyP ed osruc led oicicrejE`"
      ]
    },
    {
      "cell_type": "code",
      "metadata": {
        "id": "5ZiNzA3hSyY2"
      },
      "source": [
        "# Utilice esta celda para imprimir la cadena de caracteres\n"
      ],
      "execution_count": null,
      "outputs": []
    },
    {
      "cell_type": "markdown",
      "metadata": {
        "id": "bBLXzjE-TA1c"
      },
      "source": [
        "(ix) **Con las herramientas vistas en el curso, opere con la variable del punto (vi) para imprimir \n",
        "la siguiente cadena de caracteres:** \\\\\n",
        "\n",
        "`.UNISON ,Matemáticas\n",
        " de Departamento del Python de curso del Ejercicio`"
      ]
    },
    {
      "cell_type": "code",
      "metadata": {
        "id": "1_veej75TELe"
      },
      "source": [
        "# Utilice esta celda para imprimir la cadena de caracteres\n"
      ],
      "execution_count": null,
      "outputs": []
    },
    {
      "cell_type": "markdown",
      "metadata": {
        "id": "hZbUO-EiRVct"
      },
      "source": [
        "(x) **Extraiga e imprima las siguientes subcadenas de la variable del punto (vi):** \\\\\n",
        "\n",
        "1.- `Ejercicio del curso de` \\\\\n",
        "2.- `del Departamento de` \\\\\n",
        "\n",
        "**Luego, imprima la siguiente cadena de caracteres:** \\\\\n",
        "\n",
        "`\"ejercicio del CURSO de Geometría del departamento de Física.\"`"
      ]
    },
    {
      "cell_type": "code",
      "metadata": {
        "id": "l-5Pk3dfRifI"
      },
      "source": [
        "# Utilice esta celda para extraer e imprimir las subcadenas\n"
      ],
      "execution_count": null,
      "outputs": []
    },
    {
      "cell_type": "code",
      "metadata": {
        "id": "-3-6Din8UqaP"
      },
      "source": [
        "# Utilice esta celda para imprimir la nueva cadena\n"
      ],
      "execution_count": null,
      "outputs": []
    }
  ]
}