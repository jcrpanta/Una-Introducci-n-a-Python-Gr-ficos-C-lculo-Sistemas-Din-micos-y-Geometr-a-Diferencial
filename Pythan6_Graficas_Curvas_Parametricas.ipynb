{
  "nbformat": 4,
  "nbformat_minor": 0,
  "metadata": {
    "colab": {
      "name": "Pythan6_Graficas_Curvas_Parametricas.ipynb",
      "provenance": [],
      "collapsed_sections": [],
      "include_colab_link": true
    },
    "kernelspec": {
      "name": "python3",
      "display_name": "Python 3"
    }
  },
  "cells": [
    {
      "cell_type": "markdown",
      "metadata": {
        "id": "view-in-github",
        "colab_type": "text"
      },
      "source": [
        "<a href=\"https://colab.research.google.com/github/jcrpanta/Una-Introducci-n-a-Python-Gr-ficos-C-lculo-Sistemas-Din-micos-y-Geometr-a-Diferencial/blob/main/Pythan6_Graficas_Curvas_Parametricas.ipynb\" target=\"_parent\"><img src=\"https://colab.research.google.com/assets/colab-badge.svg\" alt=\"Open In Colab\"/></a>"
      ]
    },
    {
      "cell_type": "markdown",
      "metadata": {
        "id": "ycIeIShaeOKR"
      },
      "source": [
        "# Ecuaciones paramétricas"
      ]
    },
    {
      "cell_type": "markdown",
      "metadata": {
        "id": "jCJVP6oQwG4B"
      },
      "source": [
        "Supongamos que en un plano cartesiano queremos describir la trayectoria de una curva de forma muy precisa usando ecuaciones. Si el punto de la curva correspondiente al instante $t$ se denota por $P(t)$; entonces, como los puntos del plano pueden ubicarse mediante su abscisa y su ordenada, la dependencia de $t$ indica que cada coordenada es función de t, es decir,\n",
        "   $$ P(t) = (x(t),y(t)),$$\n",
        "  \n",
        "donde $t$ es el parámetro y $x(t)$ e $y(t)$ son las ecuaciones paramétricas de la curva."
      ]
    },
    {
      "cell_type": "markdown",
      "metadata": {
        "id": "Czbpa358eRWA"
      },
      "source": [
        "## Graficando con `matplotlib`"
      ]
    },
    {
      "cell_type": "markdown",
      "metadata": {
        "id": "wzfOLTtPyxXv"
      },
      "source": [
        "El módulo  `matplotlib`  nos permite graficar curvas paramétricas con instrucciones y herramientas análogas a las vistas hasta el momento para graficar funciones de variable real y funciones implícitas."
      ]
    },
    {
      "cell_type": "markdown",
      "metadata": {
        "id": "KcsvtOX9wtHo"
      },
      "source": [
        "### Caso 2D"
      ]
    },
    {
      "cell_type": "markdown",
      "metadata": {
        "id": "O68azjyA0RMa"
      },
      "source": [
        "Para graficar una curva paramétrica en el plano-$xy$ con `matplotlib` tenemos que definir una variable adicional, digamos $t$. Esta variable representa al parámetro (que podemos pensar es la evolución en el tiempo) de una curva $P(t) = (x(t),y(t))$."
      ]
    },
    {
      "cell_type": "markdown",
      "metadata": {
        "id": "h9wu7YjS2neS"
      },
      "source": [
        "Ejemplo 1:\n",
        "\n",
        "**$P(t) = (\\cos(t), \\sin(t))$:**"
      ]
    },
    {
      "cell_type": "code",
      "metadata": {
        "id": "nawDPsQoEePA"
      },
      "source": [
        "# Importar módulos\n",
        "import matplotlib.pyplot as plt\n",
        "import numpy as np\n",
        "\n",
        "# Definir rango \n",
        "t1 = np.arange(-2*np.pi, 2*np.pi, 0.01) # el dominio es de -2pi a 2pi con una precision de 0.01\n",
        "\n",
        "# Definir funciones\n",
        "x_t = np.cos(t1)\n",
        "y_t = np.sin(t1)\n",
        "\n",
        "# Graficar\n",
        "plt.plot(x_t, y_t) # graficar x contra f_1\n",
        "\n",
        "# Atributos de la grafica\n",
        "plt.xlabel('x') # opcional: imprimir etiquetas en los ejes\n",
        "plt.ylabel('y') \n",
        "\n",
        "plt.title('$P(t)=(\\cos(t),\\sin(t))$') # opcional: imprimir el título de la grafica\n",
        "plt.show()"
      ],
      "execution_count": null,
      "outputs": []
    },
    {
      "cell_type": "markdown",
      "metadata": {
        "id": "VGlG4BI422H_"
      },
      "source": [
        "Ejemplo 2:\n",
        "\n",
        "**$P(t) = (\\sin(4\\pi t),\\sin(6\\pi t))$:**"
      ]
    },
    {
      "cell_type": "code",
      "metadata": {
        "id": "kdNPNWyu3LlR"
      },
      "source": [
        "# Importar módulos\n",
        "import matplotlib.pyplot as plt\n",
        "import numpy as np\n",
        "\n",
        "# Definir rango \n",
        "t2 = np.arange(-4*np.pi, 4*np.pi, 0.01) # el dominio es de -2pi a 2pi con una precision de 0.01\n",
        "\n",
        "# Definir funciones\n",
        "x_t = np.sin(4 * np.pi * t2)\n",
        "y_t = np.sin(6 * np.pi * t2)\n",
        "\n",
        "# Graficar\n",
        "plt.plot(x_t, y_t) # graficar x contra f_1\n",
        "\n",
        "# Atributos de la grafica\n",
        "plt.xlabel('x') # opcional: imprimir etiquetas en los ejes\n",
        "plt.ylabel('y') \n",
        "\n",
        "plt.title('$P(t)=(\\sin(4\\pi t),\\sin(6\\pi t))$') # opcional: imprimir el título de la grafica\n",
        "plt.show()"
      ],
      "execution_count": null,
      "outputs": []
    },
    {
      "cell_type": "markdown",
      "metadata": {
        "id": "rYI7hGVQwv0O"
      },
      "source": [
        "### Caso 3D"
      ]
    },
    {
      "cell_type": "markdown",
      "metadata": {
        "id": "-gVXIwHv5DGm"
      },
      "source": [
        "La manera de cómo graficar curvas paramétricas en el espacio $3$-dimensioanl es totalmente análoga al caso $2$-dimensional salvo  porque hay que añadir comandos para generar el 'espacio' en donde se imprimirá la gráfica de una curva dada $P(t)=(x(t),y(t),z(t))$."
      ]
    },
    {
      "cell_type": "markdown",
      "metadata": {
        "id": "KQkph4zD9TB3"
      },
      "source": [
        "Ejemplo 3:\n",
        "\n",
        "**$P(t) = (\\cos(\\theta), \\sin(\\theta), \\theta)$:**"
      ]
    },
    {
      "cell_type": "code",
      "metadata": {
        "id": "JWvdv2zLCjJ4"
      },
      "source": [
        "import matplotlib.pyplot as plt\n",
        "import numpy as np\n",
        "from mpl_toolkits.mplot3d import Axes3D\n",
        "\n",
        "fig = plt.figure()\n",
        "ax = fig.gca(projection='3d')\n",
        "\n",
        "# Prepare arrays x, y, z\n",
        "theta1 = np.linspace(-4 * np.pi, 4 * np.pi, 100)\n",
        "x = np.cos(theta1)\n",
        "y = np.sin(theta1)\n",
        "z = theta1\n",
        "\n",
        "ax.plot(x, y, z, label='hélice')\n",
        "ax.legend()\n",
        "plt.show()"
      ],
      "execution_count": null,
      "outputs": []
    },
    {
      "cell_type": "markdown",
      "metadata": {
        "id": "NLI2qCdt_inc"
      },
      "source": [
        "Ejemplo 4:\n",
        "\n",
        "**$P(t) = (t,t,\\sin(t))$**"
      ]
    },
    {
      "cell_type": "code",
      "metadata": {
        "id": "LqP3Hu0f-Rsi"
      },
      "source": [
        "import matplotlib.pyplot as plt\n",
        "import numpy as np\n",
        "from mpl_toolkits.mplot3d import Axes3D\n",
        "\n",
        "fig = plt.figure()\n",
        "ax = fig.gca(projection='3d')\n",
        "\n",
        "# Prepare arrays x, y, z\n",
        "t3 = np.linspace(-4 * np.pi, 4 * np.pi, 100)\n",
        "x = t3\n",
        "y = t3\n",
        "z = np.sin(t3)\n",
        "\n",
        "ax.plot(x, y, z, label='hélice')\n",
        "ax.legend()\n",
        "plt.show()"
      ],
      "execution_count": null,
      "outputs": []
    },
    {
      "cell_type": "markdown",
      "metadata": {
        "id": "IucwWUz5ebBl"
      },
      "source": [
        "## Graficando con `SymPy`"
      ]
    },
    {
      "cell_type": "markdown",
      "metadata": {
        "id": "qGMvPwPa8axm"
      },
      "source": [
        "Como sucede para gráfias de variable real, también es posible graficar curvas paramétricas utilizando el módulo de `SymPy`. De hecho, como se mostrará la sintaxis resulta ser un tanto más amigable."
      ]
    },
    {
      "cell_type": "markdown",
      "metadata": {
        "id": "hrFIq0U3w0Rz"
      },
      "source": [
        "### Caso 2D"
      ]
    },
    {
      "cell_type": "markdown",
      "metadata": {
        "id": "xOi2DD2X9m00"
      },
      "source": [
        "Ejemplo 5:\n",
        "\n",
        "**$P(t) = (\\cos(t), \\sin(t))$:**"
      ]
    },
    {
      "cell_type": "code",
      "metadata": {
        "id": "quAnp0FFImoj"
      },
      "source": [
        "from sympy import symbols, cos, sin, pi\n",
        "from sympy.plotting import plot_parametric\n",
        "\n",
        "t = symbols('t')\n",
        "plot_parametric(cos(t), sin(t), (t, -pi, pi))\n",
        "print(cos(-2*pi), sin(-2*pi))"
      ],
      "execution_count": null,
      "outputs": []
    },
    {
      "cell_type": "markdown",
      "metadata": {
        "id": "2Z_Vjo5bw1hY"
      },
      "source": [
        "### Caso 3D"
      ]
    },
    {
      "cell_type": "markdown",
      "metadata": {
        "id": "IAvUHV2x9qno"
      },
      "source": [
        "Ejemplo 6:\n",
        "\n",
        "**$P(t) = (\\cos(\\theta), \\sin(\\theta), \\theta)$:**"
      ]
    },
    {
      "cell_type": "code",
      "metadata": {
        "id": "pk9j4yldJrtG"
      },
      "source": [
        "from sympy import symbols, cos, sin,pi\n",
        "from sympy.plotting import plot3d_parametric_line\n",
        "\n",
        "theta = symbols('theta')\n",
        "plot3d_parametric_line(cos(theta), sin(theta), theta, (theta, -4*pi, 4*pi))"
      ],
      "execution_count": null,
      "outputs": []
    },
    {
      "cell_type": "markdown",
      "metadata": {
        "id": "8pa_AfDA7OJO"
      },
      "source": [
        "# Ejercicios\n",
        "\n",
        "\n",
        "\n",
        "1.   Graficar una espiral usando plotly en 3D\n",
        "2.   Graficar la curva parametrizada $(\\theta\\cos(\\theta), \\theta\\sin(\\theta), \\theta)$\n",
        "3.   Graficar la curva parametrizada $(\\cos(\\theta), \\sin(1/\\theta), \\theta)$\n",
        "4.   Graficar una *epicicloide*\n",
        "5.   Graficar una *hipocicliode*\n",
        "6.  ⚡ Hacer gifs de la evolución de las curvas a lo largo del tiempo $t$. ⚡"
      ]
    }
  ]
}