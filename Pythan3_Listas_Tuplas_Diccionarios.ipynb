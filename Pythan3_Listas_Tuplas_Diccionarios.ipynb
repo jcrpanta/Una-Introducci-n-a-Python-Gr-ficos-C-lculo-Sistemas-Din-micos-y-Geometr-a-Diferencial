{
  "nbformat": 4,
  "nbformat_minor": 0,
  "metadata": {
    "colab": {
      "name": "Pythan3_Listas_Tuplas_Diccionarios.ipynb",
      "provenance": [],
      "collapsed_sections": [
        "aCBZvOZn3V6D",
        "D9_M_6cwUAaX",
        "a_eqCY6XTy1x",
        "SxpzGoM_Z_RU"
      ],
      "include_colab_link": true
    },
    "kernelspec": {
      "display_name": "Python 3",
      "language": "python",
      "name": "python3"
    }
  },
  "cells": [
    {
      "cell_type": "markdown",
      "metadata": {
        "id": "view-in-github",
        "colab_type": "text"
      },
      "source": [
        "<a href=\"https://colab.research.google.com/github/jcrpanta/Una-Introducci-n-a-Python-Gr-ficos-C-lculo-Sistemas-Din-micos-y-Geometr-a-Diferencial/blob/main/Pythan3_Listas_Tuplas_Diccionarios.ipynb\" target=\"_parent\"><img src=\"https://colab.research.google.com/assets/colab-badge.svg\" alt=\"Open In Colab\"/></a>"
      ]
    },
    {
      "cell_type": "markdown",
      "metadata": {
        "id": "aCBZvOZn3V6D"
      },
      "source": [
        "# Listas\n",
        "* Las listas se utilizan para almacenar varios elementos en una sola variable. \n",
        "* Las listas se crean utilizando corchetes. \n",
        "* Los elementos de la lista están **ordenados, son modificables y permiten valores duplicados**.\n",
        "* Cuando decimos que las listas están ordenadas, significa que los elementos tienen un orden definido, y ese orden no cambiará. Si se añaden nuevos elementos a una lista, éstos se colocarán al final de la misma.\n",
        "* La lista es modificable, lo que significa que podemos cambiar, añadir y eliminar elementos de una lista después de haberla creado.\n",
        "* Como las listas están indexadas, las listas pueden tener elementos con el mismo valor."
      ]
    },
    {
      "cell_type": "markdown",
      "metadata": {
        "id": "0a2XKGuHaTR-"
      },
      "source": [
        "Lista vacía:"
      ]
    },
    {
      "cell_type": "code",
      "metadata": {
        "id": "1gUdm3jfzlCB"
      },
      "source": [
        "empty = []\n",
        "empty"
      ],
      "execution_count": null,
      "outputs": []
    },
    {
      "cell_type": "markdown",
      "metadata": {
        "id": "BPmike6haV-I"
      },
      "source": [
        "Lista no vacía:"
      ]
    },
    {
      "cell_type": "code",
      "metadata": {
        "id": "X6_VTC9moTAM"
      },
      "source": [
        "numbers = [1, 2, 3]\n",
        "numbers"
      ],
      "execution_count": null,
      "outputs": []
    },
    {
      "cell_type": "markdown",
      "metadata": {
        "id": "h9l7kUOC43iL"
      },
      "source": [
        "Las listas pueden contener distintos tipos de datos:"
      ]
    },
    {
      "cell_type": "code",
      "metadata": {
        "id": "jBqfcq6Q4-Yl"
      },
      "source": [
        "mixed = ['a', 1, 2.0, [13], {}]\n",
        "mixed"
      ],
      "execution_count": null,
      "outputs": []
    },
    {
      "cell_type": "markdown",
      "metadata": {
        "id": "_rehYX145nEk"
      },
      "source": [
        "Se puede acceder a los elementos de las listas utilizando índices de forma similar a las cadenas:"
      ]
    },
    {
      "cell_type": "code",
      "metadata": {
        "id": "98QVzpN_ogFQ"
      },
      "source": [
        "mixed[0]"
      ],
      "execution_count": null,
      "outputs": []
    },
    {
      "cell_type": "code",
      "metadata": {
        "id": "j5XB0hVZ6S5E"
      },
      "source": [
        "mixed[-2]"
      ],
      "execution_count": null,
      "outputs": []
    },
    {
      "cell_type": "code",
      "metadata": {
        "id": "7EJZyQUl7y_5"
      },
      "source": [
        "mixed[4]"
      ],
      "execution_count": null,
      "outputs": []
    },
    {
      "cell_type": "markdown",
      "metadata": {
        "id": "wzPgAr_s_CrC"
      },
      "source": [
        "**Cambiar valores de una lista:**"
      ]
    },
    {
      "cell_type": "code",
      "metadata": {
        "id": "UIrYSc-3bdWc"
      },
      "source": [
        "letters = ['a', 'b', 'c', 'd', 'e', 'f', 'g']"
      ],
      "execution_count": null,
      "outputs": []
    },
    {
      "cell_type": "code",
      "metadata": {
        "id": "BZGy8c8bov2q"
      },
      "source": [
        "letters[-1] = 'a'\n",
        "letters"
      ],
      "execution_count": null,
      "outputs": []
    },
    {
      "cell_type": "markdown",
      "metadata": {
        "id": "g4-XjayC8KO7"
      },
      "source": [
        "**Agregar elementos a una lista:**"
      ]
    },
    {
      "cell_type": "code",
      "metadata": {
        "id": "o1cDG_NTcL2X"
      },
      "source": [
        "letters = ['a', 'b', 'c', 'd', 'e', 'f', 'g']"
      ],
      "execution_count": null,
      "outputs": []
    },
    {
      "cell_type": "code",
      "metadata": {
        "id": "7l9O1BOz89Sg"
      },
      "source": [
        "letters.append('A')\n",
        "letters"
      ],
      "execution_count": null,
      "outputs": []
    },
    {
      "cell_type": "code",
      "metadata": {
        "id": "BMtM1P_GcSJp"
      },
      "source": [
        "letters.append('B')\n",
        "letters"
      ],
      "execution_count": null,
      "outputs": []
    },
    {
      "cell_type": "code",
      "metadata": {
        "id": "G83ifb7DcmPX"
      },
      "source": [
        "letters.append('C')\n",
        "letters"
      ],
      "execution_count": null,
      "outputs": []
    },
    {
      "cell_type": "markdown",
      "metadata": {
        "id": "GOWYij2p9bwL"
      },
      "source": [
        "Insertar al principio de la lista:"
      ]
    },
    {
      "cell_type": "code",
      "metadata": {
        "id": "KgMcKp5W9fI7"
      },
      "source": [
        "letters.insert(0, 'A')\n",
        "letters"
      ],
      "execution_count": null,
      "outputs": []
    },
    {
      "cell_type": "code",
      "metadata": {
        "id": "XYa29cU8c09E"
      },
      "source": [
        "letters.insert(0, 'B')\n",
        "letters"
      ],
      "execution_count": null,
      "outputs": []
    },
    {
      "cell_type": "code",
      "metadata": {
        "id": "N2F2Dp9hc3H-"
      },
      "source": [
        "letters.insert(0, 'C')\n",
        "letters"
      ],
      "execution_count": null,
      "outputs": []
    },
    {
      "cell_type": "markdown",
      "metadata": {
        "id": "z2pfGnq7-PHc"
      },
      "source": [
        "Insertar en una posición arbitraria:"
      ]
    },
    {
      "cell_type": "code",
      "metadata": {
        "id": "SgovUUMS-TxT"
      },
      "source": [
        "letters.insert(2, '1')\n",
        "letters"
      ],
      "execution_count": null,
      "outputs": []
    },
    {
      "cell_type": "markdown",
      "metadata": {
        "id": "W2WMgepZAjkO"
      },
      "source": [
        "**Concatenar listas:**"
      ]
    },
    {
      "cell_type": "code",
      "metadata": {
        "id": "ZJmmTw8zdXnS"
      },
      "source": [
        "letters = ['a', 'b', 'c', 'd', 'e', 'f', 'g']"
      ],
      "execution_count": null,
      "outputs": []
    },
    {
      "cell_type": "code",
      "metadata": {
        "id": "UYn06yndAoNH"
      },
      "source": [
        "letters.extend(numbers)\n",
        "letters"
      ],
      "execution_count": null,
      "outputs": []
    },
    {
      "cell_type": "code",
      "metadata": {
        "id": "7i2nzD19dhiC"
      },
      "source": [
        "letters = ['a', 'b', 'c', 'd', 'e', 'f', 'g']"
      ],
      "execution_count": null,
      "outputs": []
    },
    {
      "cell_type": "code",
      "metadata": {
        "id": "7Qnkm9J-dc-O"
      },
      "source": [
        "letters + numbers"
      ],
      "execution_count": null,
      "outputs": []
    },
    {
      "cell_type": "markdown",
      "metadata": {
        "id": "PGcA5_5__RZm"
      },
      "source": [
        "**Intercambiar dos elementos:**"
      ]
    },
    {
      "cell_type": "code",
      "metadata": {
        "id": "egbXdmQ__UB4"
      },
      "source": [
        "letters[0], letters[1] = letters[1], letters[0]\n",
        "letters"
      ],
      "execution_count": null,
      "outputs": []
    },
    {
      "cell_type": "markdown",
      "metadata": {
        "id": "RNirVSMaHOp4"
      },
      "source": [
        "**Eliminar elementos de una lista**\n",
        "\n"
      ]
    },
    {
      "cell_type": "markdown",
      "metadata": {
        "id": "K0ecop0OHXo_"
      },
      "source": [
        "\"Pop\" desde el final:"
      ]
    },
    {
      "cell_type": "code",
      "metadata": {
        "id": "ZfFG3MZ7HdXa"
      },
      "source": [
        "letters = ['a', 'b', 'c', 'd', 'e', 'f']\n",
        "letters.pop()\n",
        "letters"
      ],
      "execution_count": null,
      "outputs": []
    },
    {
      "cell_type": "code",
      "metadata": {
        "id": "CeBTcmW2ee0N"
      },
      "source": [
        "letters.pop()\n",
        "letters"
      ],
      "execution_count": null,
      "outputs": []
    },
    {
      "cell_type": "code",
      "metadata": {
        "id": "LsbjHgipefrt"
      },
      "source": [
        "letters.pop()\n",
        "letters"
      ],
      "execution_count": null,
      "outputs": []
    },
    {
      "cell_type": "markdown",
      "metadata": {
        "id": "WSm1EhxBH8a2"
      },
      "source": [
        "\"Pop\" por índice:"
      ]
    },
    {
      "cell_type": "code",
      "metadata": {
        "id": "NmhD0RDTewJ4"
      },
      "source": [
        "letters = ['a', 'b', 'c', 'd', 'e', 'f']"
      ],
      "execution_count": null,
      "outputs": []
    },
    {
      "cell_type": "code",
      "metadata": {
        "id": "R62Fg9l4IAYV"
      },
      "source": [
        "letters.pop(2)\n",
        "letters"
      ],
      "execution_count": null,
      "outputs": []
    },
    {
      "cell_type": "code",
      "metadata": {
        "id": "dhsuj4MFezVC"
      },
      "source": [
        "letters.pop(2)\n",
        "letters"
      ],
      "execution_count": null,
      "outputs": []
    },
    {
      "cell_type": "code",
      "metadata": {
        "id": "x1ZHY-pae1Ih"
      },
      "source": [
        "letters.pop(2)\n",
        "letters"
      ],
      "execution_count": null,
      "outputs": []
    },
    {
      "cell_type": "markdown",
      "metadata": {
        "id": "wDhR89qxIUEh"
      },
      "source": [
        "Eliminar un elemento específico:"
      ]
    },
    {
      "cell_type": "code",
      "metadata": {
        "id": "G8XssVkZe8aD"
      },
      "source": [
        "letters = ['a', 'b', 'c', 'd', 'e', 'f']"
      ],
      "execution_count": null,
      "outputs": []
    },
    {
      "cell_type": "code",
      "metadata": {
        "id": "cAyAJIeOpYrU"
      },
      "source": [
        "letters.remove('d')\n",
        "letters"
      ],
      "execution_count": null,
      "outputs": []
    },
    {
      "cell_type": "code",
      "metadata": {
        "id": "QiILx1x_e-9M"
      },
      "source": [
        "letters.remove('d')\n",
        "letters"
      ],
      "execution_count": null,
      "outputs": []
    },
    {
      "cell_type": "code",
      "metadata": {
        "id": "61NR3kGGfBMJ"
      },
      "source": [
        "letters.remove('a')\n",
        "letters"
      ],
      "execution_count": null,
      "outputs": []
    },
    {
      "cell_type": "markdown",
      "metadata": {
        "id": "RN5dAwcv4EwQ"
      },
      "source": [
        "## Función `list()`\n",
        "Cualquier iterable puede ser convertido en una lista"
      ]
    },
    {
      "cell_type": "code",
      "metadata": {
        "id": "IWCOdiiJ4Iv5"
      },
      "source": [
        "numbers = list(range(10))\n",
        "numbers"
      ],
      "execution_count": null,
      "outputs": []
    },
    {
      "cell_type": "markdown",
      "metadata": {
        "id": "rQiPI4Wwff1r"
      },
      "source": [
        "**NOTA:** Un *iterable* es un objeto que contiene un número contable de valores. Es un objeto sobre el que se puede iterar, lo que significa que se puede recorrer todos los valores."
      ]
    },
    {
      "cell_type": "markdown",
      "metadata": {
        "id": "m7FQdEVcAMJl"
      },
      "source": [
        "Lista por multiplicación:"
      ]
    },
    {
      "cell_type": "code",
      "metadata": {
        "id": "lanCHsNZATqK"
      },
      "source": [
        "num = 10\n",
        "lista_ceros = [0] * num\n",
        "lista_ceros"
      ],
      "execution_count": null,
      "outputs": []
    },
    {
      "cell_type": "markdown",
      "metadata": {
        "id": "D9_M_6cwUAaX"
      },
      "source": [
        "# Tuplas\n",
        "\n",
        "* Las tuplas se utilizan para almacenar múltiples elementos en una sola variable.\n",
        "* Una tupla es una colección ordenada e inmutable.\n",
        "* Los elementos de las tuplas están **ordenados, son inmutables y permiten valores duplicados**.\n",
        "* Cuando decimos que las tuplas están ordenadas, significa que los elementos tienen un orden definido, y ese orden no cambiará.\n",
        "* Las tuplas no son modificables, lo que significa que no podemos cambiar, añadir o eliminar elementos después de la creación de la tupla.\n",
        "* Como las tuplas están indexadas, pueden tener elementos con el mismo valor.\n"
      ]
    },
    {
      "cell_type": "markdown",
      "metadata": {
        "id": "a0DqNz2UglV3"
      },
      "source": [
        "Tupla vacía:"
      ]
    },
    {
      "cell_type": "code",
      "metadata": {
        "id": "amPcH8ytggL8"
      },
      "source": [
        "empty = ()\n",
        "empty"
      ],
      "execution_count": null,
      "outputs": []
    },
    {
      "cell_type": "code",
      "metadata": {
        "id": "JyNGZaQZgkHy"
      },
      "source": [
        "type(empty)"
      ],
      "execution_count": null,
      "outputs": []
    },
    {
      "cell_type": "markdown",
      "metadata": {
        "id": "zSbnfsTNgoMa"
      },
      "source": [
        "Tupla no vacía:"
      ]
    },
    {
      "cell_type": "code",
      "metadata": {
        "id": "7Zqb_MU2UEJa"
      },
      "source": [
        "tup = (1, 2, 3)\n",
        "tup"
      ],
      "execution_count": null,
      "outputs": []
    },
    {
      "cell_type": "markdown",
      "metadata": {
        "id": "ep3XqjhqUIS1"
      },
      "source": [
        "Crear tuplas con comas:"
      ]
    },
    {
      "cell_type": "code",
      "metadata": {
        "id": "Oz8dkzlzUNEe"
      },
      "source": [
        "tup = 1, 2, 3, 4, 5\n",
        "tup"
      ],
      "execution_count": null,
      "outputs": []
    },
    {
      "cell_type": "markdown",
      "metadata": {
        "id": "0YKr2HU6UzgT"
      },
      "source": [
        "Tupla con un solo elemento:"
      ]
    },
    {
      "cell_type": "code",
      "metadata": {
        "id": "4olPH2WLg5p2"
      },
      "source": [
        "tup = (1)\n",
        "tup"
      ],
      "execution_count": null,
      "outputs": []
    },
    {
      "cell_type": "code",
      "metadata": {
        "id": "2d8cDnSKhBq5"
      },
      "source": [
        "type(tup)"
      ],
      "execution_count": null,
      "outputs": []
    },
    {
      "cell_type": "code",
      "metadata": {
        "id": "9ib336cLU3iu"
      },
      "source": [
        "tup = 1,\n",
        "tup"
      ],
      "execution_count": null,
      "outputs": []
    },
    {
      "cell_type": "code",
      "metadata": {
        "id": "E_zPvbb8hHRB"
      },
      "source": [
        "type(tup)"
      ],
      "execution_count": null,
      "outputs": []
    },
    {
      "cell_type": "code",
      "metadata": {
        "id": "Z12CZ5AjhJUv"
      },
      "source": [
        "tup = (1,)\n",
        "tup"
      ],
      "execution_count": null,
      "outputs": []
    },
    {
      "cell_type": "markdown",
      "metadata": {
        "id": "_PYwQWnJnKx3"
      },
      "source": [
        "Crear tuplas con iterables:"
      ]
    },
    {
      "cell_type": "code",
      "metadata": {
        "id": "xq9_TlIlnKW7"
      },
      "source": [
        "tuple(range(10))"
      ],
      "execution_count": null,
      "outputs": []
    },
    {
      "cell_type": "markdown",
      "metadata": {
        "id": "uqhceLGenUTv"
      },
      "source": [
        "Crear tupla por multiplicación:"
      ]
    },
    {
      "cell_type": "code",
      "metadata": {
        "id": "KInvGkZTnPyC"
      },
      "source": [
        "(0,) * 5"
      ],
      "execution_count": null,
      "outputs": []
    },
    {
      "cell_type": "markdown",
      "metadata": {
        "id": "a_eqCY6XTy1x"
      },
      "source": [
        "# Métodos y Operaciones para listas y tuplas"
      ]
    },
    {
      "cell_type": "markdown",
      "metadata": {
        "id": "HpNqX6QFLmdK"
      },
      "source": [
        "**Comprobar pertenencia de elementos:**"
      ]
    },
    {
      "cell_type": "code",
      "metadata": {
        "id": "NpIdl5Cfp7-f"
      },
      "source": [
        "3 in (1, 2, 3, 4, 5)"
      ],
      "execution_count": null,
      "outputs": []
    },
    {
      "cell_type": "code",
      "metadata": {
        "id": "gLXaJE6EMGyb"
      },
      "source": [
        "'a' not in [1, 2, 3, 4, 5]"
      ],
      "execution_count": null,
      "outputs": []
    },
    {
      "cell_type": "code",
      "metadata": {
        "id": "xDjQca-vi4iv"
      },
      "source": [
        "'a' in [1, 2, 3, 4, 5]"
      ],
      "execution_count": null,
      "outputs": []
    },
    {
      "cell_type": "markdown",
      "metadata": {
        "id": "UNKJxMb6Mipn"
      },
      "source": [
        "## Recorrimientos"
      ]
    },
    {
      "cell_type": "code",
      "metadata": {
        "id": "098SVCIvsibb"
      },
      "source": [
        "letters = 'a', 'b', 'c', 'd', 'e', 'f'\n",
        "letters[3 : 4]"
      ],
      "execution_count": null,
      "outputs": []
    },
    {
      "cell_type": "code",
      "metadata": {
        "id": "QVNJeYVtNh56"
      },
      "source": [
        "letters[ : 4]"
      ],
      "execution_count": null,
      "outputs": []
    },
    {
      "cell_type": "code",
      "metadata": {
        "id": "9XiynpN9M9V_"
      },
      "source": [
        "letters[-4: ]"
      ],
      "execution_count": null,
      "outputs": []
    },
    {
      "cell_type": "markdown",
      "metadata": {
        "id": "Lzkr-snEOEE9"
      },
      "source": [
        "**Saltos:**"
      ]
    },
    {
      "cell_type": "code",
      "metadata": {
        "id": "Fc3O6OhUjbtX"
      },
      "source": [
        "letters = ('a', 'b', 'c', 'd', 'e', 'f')\n",
        "letters"
      ],
      "execution_count": null,
      "outputs": []
    },
    {
      "cell_type": "code",
      "metadata": {
        "id": "fCzpKpbSOGy-"
      },
      "source": [
        "letters[ : : -1]"
      ],
      "execution_count": null,
      "outputs": []
    },
    {
      "cell_type": "code",
      "metadata": {
        "id": "YUBmgFvljlXz"
      },
      "source": [
        "letters[ : : 1]"
      ],
      "execution_count": null,
      "outputs": []
    },
    {
      "cell_type": "code",
      "metadata": {
        "id": "qNgpokpWjvs0"
      },
      "source": [
        "letters[ : : 2]"
      ],
      "execution_count": null,
      "outputs": []
    },
    {
      "cell_type": "code",
      "metadata": {
        "id": "-YlbJVAqjxnR"
      },
      "source": [
        "letters[ : : -2]"
      ],
      "execution_count": null,
      "outputs": []
    },
    {
      "cell_type": "code",
      "metadata": {
        "id": "VJ8NV-XLjz4l"
      },
      "source": [
        "letters[ : : 3]"
      ],
      "execution_count": null,
      "outputs": []
    },
    {
      "cell_type": "code",
      "metadata": {
        "id": "5-WXMDYRj37h"
      },
      "source": [
        "letters[ : : -3]"
      ],
      "execution_count": null,
      "outputs": []
    },
    {
      "cell_type": "code",
      "metadata": {
        "id": "i4ncH-zzj94g"
      },
      "source": [
        "letters"
      ],
      "execution_count": null,
      "outputs": []
    },
    {
      "cell_type": "code",
      "metadata": {
        "id": "yW-35snIj64i"
      },
      "source": [
        "letters[1: : 2]"
      ],
      "execution_count": null,
      "outputs": []
    },
    {
      "cell_type": "code",
      "metadata": {
        "id": "PLUJ1X1Vkjzs"
      },
      "source": [
        "letters[1: 5: 2]"
      ],
      "execution_count": null,
      "outputs": []
    },
    {
      "cell_type": "code",
      "metadata": {
        "id": "bJ-jooD6kEDw"
      },
      "source": [
        "letters[0: : -1]"
      ],
      "execution_count": null,
      "outputs": []
    },
    {
      "cell_type": "code",
      "metadata": {
        "id": "QlM2RutYlZXs"
      },
      "source": [
        "letters[1: : -1]"
      ],
      "execution_count": null,
      "outputs": []
    },
    {
      "cell_type": "code",
      "metadata": {
        "id": "Xp5mUNR9lbzm"
      },
      "source": [
        "letters[2: : -1]"
      ],
      "execution_count": null,
      "outputs": []
    },
    {
      "cell_type": "code",
      "metadata": {
        "id": "vwJ8ObnXleWB"
      },
      "source": [
        "letters[: 0: -1]"
      ],
      "execution_count": null,
      "outputs": []
    },
    {
      "cell_type": "code",
      "metadata": {
        "id": "7KOxWOt5lilD"
      },
      "source": [
        "letters[: 1: -1]"
      ],
      "execution_count": null,
      "outputs": []
    },
    {
      "cell_type": "code",
      "metadata": {
        "id": "Gs-knLkdlp4n"
      },
      "source": [
        "letters[: 2: -1]"
      ],
      "execution_count": null,
      "outputs": []
    },
    {
      "cell_type": "markdown",
      "metadata": {
        "id": "IR6wtY_oJlSv"
      },
      "source": [
        "**Listas, tuplas y cadena de caracteres**"
      ]
    },
    {
      "cell_type": "code",
      "metadata": {
        "id": "81hFjYCSmNqM"
      },
      "source": [
        "Lista = [1, 2, 3]"
      ],
      "execution_count": null,
      "outputs": []
    },
    {
      "cell_type": "code",
      "metadata": {
        "id": "iUY-WFVvP82h"
      },
      "source": [
        "f'La lista es {Lista}'"
      ],
      "execution_count": null,
      "outputs": []
    },
    {
      "cell_type": "code",
      "metadata": {
        "id": "YN1Hz2P3mL2i"
      },
      "source": [
        "f'Los elementos de la lista son {Lista[0]}, {Lista[1]} y {Lista[2]}.'"
      ],
      "execution_count": null,
      "outputs": []
    },
    {
      "cell_type": "markdown",
      "metadata": {
        "id": "LJ7sHBWvnDRS"
      },
      "source": [
        "String a Lista"
      ]
    },
    {
      "cell_type": "code",
      "metadata": {
        "id": "Un35cmhynAxD"
      },
      "source": [
        "list('Hola Grupo')"
      ],
      "execution_count": null,
      "outputs": []
    },
    {
      "cell_type": "markdown",
      "metadata": {
        "id": "2Qso0S3RnlYz"
      },
      "source": [
        "String a tupla"
      ]
    },
    {
      "cell_type": "code",
      "metadata": {
        "id": "FsBqPrl0nF3T"
      },
      "source": [
        "tuple('Hola Grupo')"
      ],
      "execution_count": null,
      "outputs": []
    },
    {
      "cell_type": "markdown",
      "metadata": {
        "id": "GWZhTWptnxrM"
      },
      "source": [
        "Tupla a lista:"
      ]
    },
    {
      "cell_type": "code",
      "metadata": {
        "id": "4exkgKN-nqxa"
      },
      "source": [
        "tup = (1, 2, 3, 4, 5)\n",
        "list(tup)"
      ],
      "execution_count": null,
      "outputs": []
    },
    {
      "cell_type": "code",
      "metadata": {
        "id": "4tlXa1_xnz9M"
      },
      "source": [
        "lista = [1, 2, 3]\n",
        "tuple(lista)"
      ],
      "execution_count": null,
      "outputs": []
    },
    {
      "cell_type": "markdown",
      "metadata": {
        "id": "SxpzGoM_Z_RU"
      },
      "source": [
        "# Diccionarios\n",
        "\n",
        "*   Los diccionarios se utilizan para almacenar valores de datos en pares `clave: valor`.\n",
        "*   Un diccionario es una colección **no ordenada (por default), modificable y que no admite duplicados**.\n",
        "* Los elementos del diccionario no están ordenados (por default), son modificables y no admiten duplicados.\n",
        "\n",
        "**NOTA:** *A partir de la versión 3.7 de Python, los diccionarios están ordenados. En Python 3.6 y anteriores, los diccionarios están desordenados.*\n",
        "\n",
        "* Los elementos del diccionario se presentan en pares `clave: valor`, y se puede hacer referencia a ellos utilizando el nombre de la clave.\n",
        "* Los diccionarios son modificables, lo que significa que podemos cambiar, añadir o eliminar elementos una vez creado el diccionario.\n",
        "* Los diccionarios no pueden tener dos elementos con la misma clave.\n"
      ]
    },
    {
      "cell_type": "markdown",
      "metadata": {
        "id": "l9nWQuW1oLCE"
      },
      "source": [
        "Diccionario vacío:"
      ]
    },
    {
      "cell_type": "code",
      "metadata": {
        "id": "45C_FS-eoR-3"
      },
      "source": [
        "dictionary = {}\n",
        "dictionary"
      ],
      "execution_count": null,
      "outputs": []
    },
    {
      "cell_type": "markdown",
      "metadata": {
        "id": "uwNpFQFGo0C_"
      },
      "source": [
        "Diccionario no vacío:"
      ]
    },
    {
      "cell_type": "code",
      "metadata": {
        "id": "xkdPoHJkqX1D"
      },
      "source": [
        "dictionary = {'key-2': 'value-2', 'key-1': 'value-1'}\n",
        "dictionary"
      ],
      "execution_count": null,
      "outputs": []
    },
    {
      "cell_type": "code",
      "metadata": {
        "id": "VWYvp8peo5ok"
      },
      "source": [
        "key_values = [['key-2', 'value-2'], ['key-1','value-1']]\n",
        "dictionary = dict(key_values)\n",
        "dictionary"
      ],
      "execution_count": null,
      "outputs": []
    },
    {
      "cell_type": "markdown",
      "metadata": {
        "id": "vb9aP6o5pv_B"
      },
      "source": [
        "Acceder a un elemento:"
      ]
    },
    {
      "cell_type": "code",
      "metadata": {
        "id": "3-jz1H8Apzgm"
      },
      "source": [
        "dictionary['key-2']"
      ],
      "execution_count": null,
      "outputs": []
    },
    {
      "cell_type": "code",
      "metadata": {
        "id": "YSSr9Ed9qwSY"
      },
      "source": [
        "dictionary['key-1']"
      ],
      "execution_count": null,
      "outputs": []
    },
    {
      "cell_type": "markdown",
      "metadata": {
        "id": "UBSLRWEeqE-W"
      },
      "source": [
        "Agregar clave y valor:"
      ]
    },
    {
      "cell_type": "code",
      "metadata": {
        "id": "J98co3mWqJ5I"
      },
      "source": [
        "dictionary['key-3'] = 'value-3'\n",
        "dictionary"
      ],
      "execution_count": null,
      "outputs": []
    },
    {
      "cell_type": "markdown",
      "metadata": {
        "id": "xmHWK2hHq7c_"
      },
      "source": [
        "Actualizar valor de una clave:"
      ]
    },
    {
      "cell_type": "code",
      "metadata": {
        "id": "VrV2r-vUq-JV"
      },
      "source": [
        "dictionary['key-2'] = 'new-value-2'\n",
        "dictionary['key-2']"
      ],
      "execution_count": null,
      "outputs": []
    },
    {
      "cell_type": "markdown",
      "metadata": {
        "id": "_ot60Snlra6K"
      },
      "source": [
        "Conocer las llaves:"
      ]
    },
    {
      "cell_type": "code",
      "metadata": {
        "id": "Lv726tMhrYnh"
      },
      "source": [
        "list(dictionary.keys())"
      ],
      "execution_count": null,
      "outputs": []
    },
    {
      "cell_type": "markdown",
      "metadata": {
        "id": "WGJyKhKgrf11"
      },
      "source": [
        "Conocer los valores:"
      ]
    },
    {
      "cell_type": "code",
      "metadata": {
        "id": "F7F-fNMMrhT5"
      },
      "source": [
        "dictionary.values()"
      ],
      "execution_count": null,
      "outputs": []
    },
    {
      "cell_type": "markdown",
      "metadata": {
        "id": "tCpdFg8JrqKM"
      },
      "source": [
        "Conocer claves y valores:"
      ]
    },
    {
      "cell_type": "code",
      "metadata": {
        "id": "0dZRJamArlLg"
      },
      "source": [
        "dictionary.items()"
      ],
      "execution_count": null,
      "outputs": []
    },
    {
      "cell_type": "markdown",
      "metadata": {
        "id": "9fqITS30sJC6"
      },
      "source": [
        "Verificar pertenencia de una clave:"
      ]
    },
    {
      "cell_type": "code",
      "metadata": {
        "id": "c1XdFLXNsWVq"
      },
      "source": [
        "'key-5' in dictionary"
      ],
      "execution_count": null,
      "outputs": []
    },
    {
      "cell_type": "code",
      "metadata": {
        "id": "lhics7nMrddp"
      },
      "source": [
        "'key-1' in dictionary"
      ],
      "execution_count": null,
      "outputs": []
    },
    {
      "cell_type": "markdown",
      "metadata": {
        "id": "G4Z2Pk3VsyUJ"
      },
      "source": [
        "Método `get()`:"
      ]
    },
    {
      "cell_type": "code",
      "metadata": {
        "id": "FnHIgV8_s1eQ"
      },
      "source": [
        "dictionary.get(\"key-1\", \"Clave no existente\")"
      ],
      "execution_count": null,
      "outputs": []
    },
    {
      "cell_type": "code",
      "metadata": {
        "id": "AOzZAUqZr-ZY"
      },
      "source": [
        "dictionary.get(\"key-5\", \"Clave no existente\")"
      ],
      "execution_count": null,
      "outputs": []
    },
    {
      "cell_type": "markdown",
      "metadata": {
        "id": "YmWqelbJthVB"
      },
      "source": [
        "Remover una clave (y su valor):"
      ]
    },
    {
      "cell_type": "code",
      "metadata": {
        "id": "tOLuWnHEtkjT"
      },
      "source": [
        "del(dictionary['key-1'])\n",
        "dictionary"
      ],
      "execution_count": null,
      "outputs": []
    },
    {
      "cell_type": "markdown",
      "metadata": {
        "id": "rnKNsxuZinvy"
      },
      "source": [
        "Listas como claves? No, porque las listas son mutables:"
      ]
    },
    {
      "cell_type": "code",
      "metadata": {
        "id": "16t9F7PPipo4"
      },
      "source": [
        "items = ['item-1', 'item-2', 'item-3']\n",
        "map = {}\n",
        "map[items] = \"some-value\""
      ],
      "execution_count": null,
      "outputs": []
    },
    {
      "cell_type": "markdown",
      "metadata": {
        "id": "_9vXIamIjLER"
      },
      "source": [
        "Tuplas como claves? Sí, porque son inmutables:"
      ]
    },
    {
      "cell_type": "code",
      "metadata": {
        "id": "K2pFCFu3jNRM"
      },
      "source": [
        "items = 'item-1', 'item-2', 'item-3'\n",
        "map = {}\n",
        "map[items] = \"some-value\"\n",
        "\n",
        "map"
      ],
      "execution_count": null,
      "outputs": []
    }
  ]
}